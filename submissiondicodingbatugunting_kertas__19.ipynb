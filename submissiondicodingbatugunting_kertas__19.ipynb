{
  "nbformat": 4,
  "nbformat_minor": 0,
  "metadata": {
    "colab": {
      "name": "submissiondicodingbatugunting_kertas _19.ipynb",
      "provenance": [],
      "authorship_tag": "ABX9TyNiwufCpV/Ct05Sh3qNhZct",
      "include_colab_link": true
    },
    "kernelspec": {
      "name": "python3",
      "display_name": "Python 3"
    },
    "language_info": {
      "name": "python"
    }
  },
  "cells": [
    {
      "cell_type": "markdown",
      "metadata": {
        "id": "view-in-github",
        "colab_type": "text"
      },
      "source": [
        "<a href=\"https://colab.research.google.com/github/khairav/MachinLearning-Mini_Project/blob/main/submissiondicodingbatugunting_kertas__19.ipynb\" target=\"_parent\"><img src=\"https://colab.research.google.com/assets/colab-badge.svg\" alt=\"Open In Colab\"/></a>"
      ]
    },
    {
      "cell_type": "markdown",
      "metadata": {
        "id": "dtW8n6-i7KNM"
      },
      "source": [
        "# Submission Project Machine Learning Klasifikasi Gambar"
      ]
    },
    {
      "cell_type": "markdown",
      "metadata": {
        "id": "4aE_aGzj4oR5"
      },
      "source": [
        "![ilustrasi_20161120_150722.jpg](data:image/jpeg;base64,/9j/4AAQSkZJRgABAQEAYABgAAD//gA7Q1JFQVRPUjogZ2QtanBlZyB2MS4wICh1c2luZyBJSkcgSlBFRyB2NjIpLCBxdWFsaXR5ID0gNzUK/9sAQwAIBgYHBgUIBwcHCQkICgwUDQwLCwwZEhMPFB0aHx4dGhwcICQuJyAiLCMcHCg3KSwwMTQ0NB8nOT04MjwuMzQy/9sAQwEJCQkMCwwYDQ0YMiEcITIyMjIyMjIyMjIyMjIyMjIyMjIyMjIyMjIyMjIyMjIyMjIyMjIyMjIyMjIyMjIyMjIy/8AAEQgBiQK8AwEiAAIRAQMRAf/EAB8AAAEFAQEBAQEBAAAAAAAAAAABAgMEBQYHCAkKC//EALUQAAIBAwMCBAMFBQQEAAABfQECAwAEEQUSITFBBhNRYQcicRQygZGhCCNCscEVUtHwJDNicoIJChYXGBkaJSYnKCkqNDU2Nzg5OkNERUZHSElKU1RVVldYWVpjZGVmZ2hpanN0dXZ3eHl6g4SFhoeIiYqSk5SVlpeYmZqio6Slpqeoqaqys7S1tre4ubrCw8TFxsfIycrS09TV1tfY2drh4uPk5ebn6Onq8fLz9PX29/j5+v/EAB8BAAMBAQEBAQEBAQEAAAAAAAABAgMEBQYHCAkKC//EALURAAIBAgQEAwQHBQQEAAECdwABAgMRBAUhMQYSQVEHYXETIjKBCBRCkaGxwQkjM1LwFWJy0QoWJDThJfEXGBkaJicoKSo1Njc4OTpDREVGR0hJSlNUVVZXWFlaY2RlZmdoaWpzdHV2d3h5eoKDhIWGh4iJipKTlJWWl5iZmqKjpKWmp6ipqrKztLW2t7i5usLDxMXGx8jJytLT1NXW19jZ2uLj5OXm5+jp6vLz9PX29/j5+v/aAAwDAQACEQMRAD8A9/ooooAKKKKACiiigAooooAKKKKACiiigAooooAKKKKACiiigAooooAKKKKACiiigAooooAKKKKACiiigAooooAKKKKACiiigAooooAKKKKACiiigAooooAKKKKACiikoAQ0xjtDMegFObkVm63cfZdKlcdcVLdgiuaVjg9bumvtSk5ztOBWVIR5yxJzIewq1Z2lzeyswQgE53HpW5a6XbWP7/HmS/3j2ry6jvI9yFowsiOKz+z2ihh8zDmohbqg5q/JIC25uaqTSgtknArOTQRTZBJhVO3FYl864JJqa+1OKPeoOTXM3t47854qEjqhElmmjQkg4NVpb2PaBv5rPeVpSQTiiKENnc2RVWNWkhZLqQ52c1HEs0z8mpvkU7Vq1bJtbIHFGxDZNbW23G81cCKpxmkRxxlaViu7PvTuQxpIDFQc1EB8wJPUVIW+Zwo5qFmL5yPu0rgkDMcbmOMdMVE5C/MOc0hbeQ+MetNwecDNFyrWED4fkcUsmHIA6U0qxxxg09U55OaEJjQgDcU4AnOKcgKsd3NPCqTVENkagkYIqdEO3G3NOSDPIq5BCzcE07iZHBHjjbirkduM9TmnpBtYHNXUTPagkgSMH5WqykKZB21Kka55qdEGzbigTYiRbiMrj0NWY4cZzzT0iCKBirEUR7cntTSuS5W3EijJ5A57CtvT9KMu2ScdO1SabpuQJZhz2rbUAKAK66NHqzz8RiOkRI4lRQqqABT+lKBRiutJI4rtgKO9FGKYIWiiigAooooAKKKKACiiigAooooAKKKKACiiigAooooAKKKKAEpaKKAEpaKKACiiigBKKWkoAWkpaKACiiigAooooAKKKKACiiigAooooAKKKKACiikoAKWm5paLgLSE0tNNIBc0ZpKD1o9QFzSbh600tjrVeW8hi+8wpOcVuCjJ7FsEetISB3rGuNbROI+Saz5dVnk4zis5V4o3hh5yOgmu4YRl3FYuoalFdRNGVzGayprnOS7E5qm1ysWfSuWpiW9jrpYVLVl7zljRVRAFx90VXknAyWPA6VmTakVB5FZNzqkjHiuJyd7ncqSNm41FY1JLZNYN/q0kgwvArPuLxmyM81nyzO3FTubqKRLLODuLHLGs+RjK+CcU8gk5qJ8g5xVpD5yNtsfIOagkvP4U4HenSxhhw3NJDaF2ANWrC5rkltISwyCc1rRfKoLcVBFb7SABzV5YjgFu1S3cTRIG2pu7U123Y2+tNYEHd/D6U0kdcYqQsL5mGZhUbPlODyetBOTlOtPMYXpwx9adkUkM2hEx1Bo8liRg4qxbwZfMnSnzMAuEHNMGyq+CoUnkdTTUXa2Qc1MyAdetKqE9FpmbBI8P/eqeKFWbOPwpY4jIdwq/DDxnFMm42O34GBVqK2xy1TRR8VOqbRzTFciWMZAAzVhQBxtoAz0FSRqyk+9BN7gqZGccVZSLDDJoji+Ukng1ZjjCDJ5PahauxMtFccseSMnitvTdOyBJIvHaodN08ysJHHy+ldGiKqhQOBXZRordnBXr9EAXaoAFOHAoxzSiutbHD1AUc0tFMAooooAKKKKACiiigAooooAKSlooAKKKKACikpaACiiigAooooASilooASlpKWgApKKWgBKKWigBKKWkoAWikpaACiiigAopKWgAooooAKKKKACikpaACiiigApKWkoATpRkZoprOIxlmAFLRC1HZ9qZJIqLliBis+71aOAYUgmufvdVkkb7+Ae1Y1K8YnRToSkdBdazDBlVwx6Vkz+IZCrMoCqO5Ncze3+2BpFOT61kXF9M9s+f4l4rkliZM76WDj1Oqk8QTyjiYY7VTfUmYkOST9a49bxnt1wjZQ/NVm5umEcbqfvVi5SludKoxjsdD9vx3pDf/wC1isNrjCjPXGahacv3rM0UbG5LfkKTVCW9LoQxx71ntM+MZqJpqGOxJNcMwyCcCqDXBJ61M82eAOKqSHBzUopsViCckVCfvZHIpryjucVCbhRxuqkiWydhxxTfLZlwRUcTh3HPFasNvuAIGaZBQhs9x5XPvV63087gSuMdK1IbPgYFaEVsMc1DbLWhkiz2fw/jTGiIGAc4rZljAGO9VDA4OccGkrl3MogDr09KgZwTjj6VNqB8tsLjJqKKNUj3FMsaoq2goiwA3QVahtmuAHccDtU1nZs48yQbQOeaiu79AWjgIB6cULUQy5lXJRP4arfOGB29aEDug3DDfzq3FGWADdRVohkaRMW5GanWFmO0cVbhhyAT1qQQfvOKCWNhhKjbsA96uRxgEHPHpSIFxxmrEaFh0qjMFHTAqcJuAzxilijGelWlhJ7UxXK6jnG38anSE8E9DU4gGasRoEC5GadiXK2pEsIAGRxWnY6e1w4ZgQoqay0x5HDyD5PSt2OJIlCqMCumlR1uzir4nSyCOMRoFUcCpQKQUtdmhwXbYtFFJTAWikpaACiiigAooooAKKKKACiiigAooooAKKKKACiiigAooooAKKKKACiiigAopKKAFooooAKKKKACiikoAWiiigAooooAKKKSgBaSijNABQaM03I78UrgLS9qheaNBlnqFtQiA4OaTkkUoNlvNISaxrjWhGDtHSsebxJK7FUbBrKWIjE0jhpyOuMqpy7AVXm1OCLndmuFfWZZJWSWU59jSi+/dnB3GsJYs6Y4Jrc6qbWyPuDFZN3qc02cycelZD3hOOearyzkg+nrWE6zezN4YeK6Fia9b15qjLcMZCSeCKrTSHyy2e9VTcg45rFts6oxSVgmkaW2kjQZIrNCyeUGckbeMZq2boQylc/eqC4OLSRiec0LQ2SsOtlVJp1XGxhyKgLiS3wF+61CSnBKnkiqqTMFZAe9DkGiepblmJI56CoWnAwAKrEkck9eKUr3JqLsHpqifzSTTS4J64qIyc7UVnbsAK07Dwprmr4ItzFCf4jxWsYSn0Mp1ox3MqW6SMHJH41l3GpD+Dk+1eq6b8KrNCHv7l5W7gHiuos/Bmg2Y/d2ETEd3XNdEcI2ck8dFHzjLfyOSuGBHYjGaSGWRmyTnHVa9S+LPhWCPT4dRsYUhaNsMEGARXmWlxNI2WHz55rOrT5GdVGqqsbo2tNtzIdx6V1FpCAn3c1U0rT9qgn7tbmEjA2daxkxK6ECBI8nihXUITnBoeRX471VmfDYY4qDWKY+SQbgSeKo32qrEpWM9Kr3V7gFU61h3LtNkL97vRc3jEdFd/bLs7ga1LUeZJ+8O1U5JqhaWbCIOBg96vtFIIiCP3Z70wdkU9U1mW7mFrZ5SJeGI71Ha27LjJyepNWLbTFjYuDwT0rQFuFIp3sQRxR7jk8kdKuRQ55Ip8NuM9K0Y4Bt6UXMpECIQM/pU0a8Z281MIBuq1HEBwBVIi5WEQHAFTxQkc9qtJBk9KsogXAK1SZLIoYwe3NWggAx3oVNpyKtQWzXEgAH4+lXGLkZyqKKIFi3EKODWvY6VlhJL064q5a6fHCASoZvU1dwMAdq7KVG2rPOq13LRAqKi4UYApcCg06ulKxzCYopaKACkpaKAExS0UUAFFFFABRRRQAUUUUAFFFFABRRRQAlLRRQAUUUUAJRS0UAFFFFABRRRQAlFLRQAlFLRQAUUUUAJRS0UAJRS0UAFFFFABSUtJQAGmk45JwKU1TvJggC55aokxpXZHdaj5R2opY1Ua5uJl+UEVKojT5jgmmyXCKvykCsm7nTGFuhn3MssQy+do61WF+rqVFTaleJ9kce3WuK/tjF0yr0zXLUb7ndShfdGvqN4yghTyaw2nDP8zYNJcXZZ9xORWRPeKlxuPSudxb1OyNorQuySFJo5d3fBrQ+0jyvlODmuaa7EoZ1OcMPlqybvdtK5AzUcyQ+RyNlLjfyx5FJLc8Hms2ORn5zUgVnNShJEzzBhVd+QdtSrFuOADQYWXp+NO47GdOGYZxyKb9/G58L6GtB7RmHBqqdOdmGNxPoKpJsHNLdlcsVO1RTAuMhup9K6Cx8L318w2QMF9TXY6X4BtYdsl629+u1TgfjWscPKbOepiqcN9Tza2028vmCQW7SjsQOldVpnw7ursB72byk/u4r0m00+0sl228CRj2FWtpI5HFd1PDRjuefVx0paR0MLS/CelaYB5cCu+MbmXOa3FjRV2ooUDsBinKMdBxS5xW6SWiOSUpSd2wAGKTFKDSE4qiPUw/F9ml74YvYnA/1ZI4rxLw9pUs0weRcJkjp6V7R4rv0TTZLVCGklG3aO1cdZ2S2kewAetefi5LoergbxTGxxRwRgelROQXytTSMpJ9KqSSBAfWvPbud8Vd6jJWCfMKz55t2QAWqSeRgDnvUEcMjHI6Z5oNdisI/N+XGM1Lb6Q0knA4HXitm3s41AL4zVxUVBx8tPUHUsVIbSOFNijJ+lONnvXaBx9KuxhWPyr+NWkj5wq00ZuTMj7CFGCBTo7becFePpW1HZNJkkYqZbI9AtOzZHOZcNsFyMY/CrKwgLitAWeBTfsx3dOKpRYnIqJCCelWEj2/w1YEGDxT1Qg81ViLkYj/Kpgir71JHE0rhEUmte105IyGkGT6V006TZy1ayRQtdOknYNKMR9q3ILdIUAUDFShQowOBS4rshTUTgnVcgxSjpQelA6VoZi0UUUAFFFFABRRRQAUUUUAFFFFABRRRQAUUUUAFFFFABRRRQAUUUUAFFFFABRRRQAUUUUAFFFFABRRRQAUUUUAFFFFABRRRQAUUUUAFFFFABSUtIaAENYmvM0SxyDoK2jVS+tRd20kZxntUzV0VTklLU5h713wVbrUeXc4JJamGB7KYpMuVB61Wu9aFt8ttAXc964HNp2Z7UEpJchDqb+VbyeY23joa4y22mSR2Pfitu6t9S1SXfKCAegApE8PyqmChHrWMtTpi+VaoyHbzDgN0qrLZvI3rXTDRFT72R+FSx6QxPyRM34Vk4zeiG6tNO7ORj050kOQcGtCDT22jI4FdfB4eu5tuIcKO5FbVt4TIU+ay8+1VHDzkYVMZTRwsdiVIyuB7VdisHfAjQn8K9Bg8OWcIG4Fj71oRWNvCMJEo/CumGFfU4549dDgLfw/eSfdixn1rRi8HTvzK4X6V2oAHQAUbec10Rw0OpzSxtR7HL2/gy1Q5lYvWvaaHYWwxHbjIPU1pAUvStY0ox2MZVpy3Y1UVVwAAPanBRRS1oZhtFGKKM0AFIaRjgUySVY0LuQFFJ2WoLV2QuQDn9aw9W8QJagw2/wA8p/SqOq6+05MFr8qd3rn2fy85OWPVjXFWxNtEd2GwjbvMlL+ZI007lpWOee1VZ5yTjv7UyeUFMk9Ohqg0+MndXnym5HqQhyj57naMGqUshZsjmlkYSckilSLPzYzU8pqxgUseaswxt0A+Wpre13feIq8loSRtp2sLm0KqR+acEkYq5BbM/wAvUDvV230/kHbzWtbaeeMLVxhKWxjOpFbmdBZEdFrWtNPY8hK1LXTtvLgfStJEVBhQBXbSw3c8+tjOkTMj0sj72KJtLOwmIjNam3Jzmjb710+xglY5PbzuctJDeQth48j2qDz5M4IKn6V2BUHggfjULWkLHJjX8qylh29jWOJa3OYSOSTlcsT3rQt9NkcAvxW0sEafdQD8KftH/wCqqjh7CliW9CGC3jhACr+NTgYoApa6ErHO3cMUtFFMQUUUUAFFFFABRRRQAUUUUAFFFFABRRRQAUUUUAFFFFABRRRQAUUUUAFFFFABRRRQAUUUUAFFFFABRRRQAUUUUAFFFFABRRRQAUUUUAFFFFABRRRQAUhpaTFACYzSYxTsUYFAWKlzYwXS4dRn1rMPh+IPlQPxrdKg0AYrKVKMjWFacPhZkJo6YG4j8BVgaVAByM1fwKXFCoxB16j6lJdNtR/yyB+tTrbQp92NR+FTYFGKtQiuhm5SfUaFA6DFBFOoxVLQkbilApcCigLBQaWkxQMKDRiigBOKWjFFIAPTjrSE4xxzSEmqV7fLZQl3YE9hSlJRV2OKcnZEt3dxWsW+VgPQVyep6tLfEhW2Qj071W1HUXuJS0jZ9AOlZ4PBeTIT0rz6+Ju7RPUw2F5feluIx28dBVSe428A5pl5fxRIVBznnNYr3nmhyM8Vx6t6nopXLc1wSTzUHmCT5R1qoshkwR3rTsrXJJI5ppIJaCQQEn5wa0orUgg9VqdLbC8jJq/Z2TE5/SqtqZOfcbb2gwPlrUtrMk429farlnp+8j5Tit2CzjjUZHNdNOg5HFWxKWxQttOwBmtKK2SMDHWpQoHAp20V2xpKOx58qspCYpcUYorUyENFLijFKwwxRS0mKACjFGKMUwFooooAKKKKACiiigAooooAKKKKACiiigAooooAKKKKACiiigAooooAKKKKACiiigAooooAKKKKACiiigAooooAKKKKACiiigApKWigAooooAKKKKACiiigAooooAKKKKACiiigApKWigAooooAKKKKACiiigAooooAKKKKACkoooAKQnmkZwKx9R1Xy1KQHLdCRUSqKO5UYOT0J9Q1NLQY6t2rjr+/lmdnY5GenpT7u4ctuZixPr2rJmuo0Dsxya8ytXcnZHsYfDJK7HllAErnjHFZN5q6l2jlbanaqN5qsksbhe38I7VzlxeSXDDzx8intWCV9Tu5Uan2pfPO98xdjUP2lzcsoXCn7vvVOOBi6spLxt29K2lsjiNgORyKtoBII3IDHg56V02nRZi5PeqVrYmUBmXBPJFdJp1gxQKqH8qSi29DOdSKWosFs7MABmulsNN4BaptP0xYwGcc+4rVVQOgFd9Kh1Z5FfEXdojI4hGoAFSgUUCutJI4m7hRRQKAFooopgFFFFABRRRQAUUUUAFFFFABRRRQAUUUUAFFFFABRRRQAUUUUAFFFFABRRRQAUUUUAFFFFABRRRQAUUUUAFFFFABRRRQAUUlLQAUUUUAFFJS0AFFJRQAUUUUALRSUUAFFBpM0CuLRScUmaAuh1GaSjAoGLmlpuBSigBaKKKACiiigAooooAKKKKACiiigBKM0UmKAFzRmm8DikJA60bbi9B2eajmmSFCzsAKqXmpQWiEswLdgK5i+1ZrlzuOF7CsKleMUdFLDzmaV/qzSEpENo/vViT3Cx5O761RuNSCDAPFY93qXmcA15tSrKbPWo4ZQRaub8M5ANYVzcOZTtOQOoolk3HAbk1DsL5A4I/WskdSVitMiv8AvoQQw++PagWC3aq8Iyp+8PSr1vbEuG28+nrWxb2BD+ZGNjHqnaqTHey1Mqx01bJXH30foPQ1e06xm34Y55ytacWkSiXzYzkH7ymuj03SmcfLHj1JrSMHI56lZRVypp2nO7YK89662xsVhjGQM1JaWSQIMDnFXAMGu2jQ5dTya1dz0EH0pe9KKO9dWxyC0UUUxiUCiloAKKKKACiiigAooooAKKKKACiiigAooooAKKKKACiiigAooooAKKKKACiiigAooooAKKKKACiiigAooooAKKKKACiiigAooooAKKKKACiiigAooooAKTNLSZoAM0ZpjyBFLMQKoT6vBFwOT7VMpKO5UYuWxo55o3Cudk1yVmwigD1NUrjVJsHMnX0rKVeKNo4ebOpku4Yj88iqfc1B/a9mGx5y/nXFy3Jk+9KT9TUYmiUYIyayeKSNlg9NTvUvraTG2VTnpzUu4HmvOJ5yuCjkem09KW28U3enSDziZYs9CegqoYlMmeCdtD0gHNLis3TNZttVgElu4J7rnkVoA5PHIrojK5yNOOjHUopKUVRNxaKSigYtFJS0AFFFFABRRRQAUUUlABTScUFiD7VTur6O3BB5NTKVkOMXLRFiWZIl3OQAO5rF1DVywKwdOhaqVzffaHw0uF/u5rPvJljiO04FctSvo0d9HCu+pTvr0oSXfd9TWDqGreT8ygtGR1HanX11vByM1iPG9xJtzhD1FcE02z1aUVFWEl1HzjhXyD6dqZHKxJ3A0yWzS2kCQDcD96rttZsxAfpQ7JGrHwWhmw2ODWpa6cGblee1W7KywoCjNdDZaeCB8vP0ojHmZhUrKCMmDSN7ZZCCOmBWvaaMSQW61vWunYUbhgVox26RgetdVPDNnnVsZfYzbXSlCjeMYNaiRLGuFAH0qQDijGa7YU1E4J1JSACloFLWhmJR3paSkMWikpaYBRRRQAUUUUAFFFFABRRRQAUUUUAFFFFABRRRQAUUUUAFFFFABRRRQAUUUUAFFFFABRRRQAUUUUAFFFFABRRRQAUUUUAFFFFACUtFFABRRRQAUmaWkNABSZ5xiiopZ44l3SMFFS5Jbglck3VFNcxQrl2A9qyL3XAvyQj/AIFWFPePI5Mr7ielYzrJbHRTw8pbmnfam1w7Ih2oO/rWX5ozmqzzEEbhweKY0qhSAeRXJUq8x6NOjGCJJrnBPpWe902CMc1DLOSDz0NVmlLNvzwKwlZm8VYn845+Y9aje6VT1qpPdbTwM1QluFzk8VNizRl1PywwGPc1k3GpCX5d2RWfczlmKg/e6U2ztHeTDdM0JWK0N/Qb+6sLsTW77Rn5gehr1jSNct9RiU52SY5B715fYWfyjcPkHQCtu3ilOGG6Mr0210Uq7W5xVsOquqPTN4xwaUE1yVnrV3aBUuFDR9M963rXV7S5GFkAb0Nd0a8WebOhKBoZozTQ2aXitVqY3FJNKKbk06mFrC0UUUAFJS0UgE70metLUFy+y3dqG7AZ1/qgjk8pBnPpWb9muLncznCn86s28EauZWbJ680XF4oOBwa43Uvud0Fy6JGZd6XEiErId31ritSvrm1ujHKcxZwDXaTb5XJya53W9PM8YZk6Hg1hOKaPTo6LUwHn80fJ0qEIzEc8Vo2+kyeVlVOK0rXRHOMqcVjys3c4x3McQbwBGOa2dP02Vipda2LLQcNkLXUWWkrGoLDtVU6Mps5a2MjFaGVp+lEgfLiuhtrJIF9T71OkSxjAFPr0adBRR5FbESmwA9KXGaBTq3Whz7iYoxS0lAxKM0d6QnFIW4uaM84qvNdwwAGRwKZ9vgYjDDnvSU0VystE0uTTEkWQZBzT6adxWaeoZ4pRRQKYC0UUUAIaAaD0pBQAuaM03vS80WAWiiigBaTNLSZoAWiiigAooooAKKKKACiiigAooooAKKKKACiiigAooooAKKKKACiiigAooooAKKKKACiiigAopKD0oACcCml8DPagkAEseKwtS1YcxRHB7ms5z5SoRcnoXL/VorVDtIZq5q81B7hizucHpzVeaTexyxP1qm0gcFM4Irhq1ubQ9OlhlFXZL5xxsYkg+tQu+1sD7vr6VEZeMdxTN+7Pp3rBu51Ky0RM8u0YPK9jVaWY5wg+tRszZwTlOwqP5lzU2Go9yOR1zjHPpVaaQI2GGB7U+Tdy64z0qBlLH5eT3BosUVZZHOSuNtVJNznaR1q60K5xk+9CIG4xgjoTQMpQWW6T5huweproLKwXzF+Xr7VHbWwwp/i71uQAoV6YxQS5Fq0sVj5wKvhooxjgVjXOoGAHDDNZE2ru5I3VLaQlBy2Oiu7yM5AxWNNfbMsJCu3oQeazGvs9SSapT3AbPJye1SqjuX7NW5WdlovjZ7a5S3vmZo3OFcmvRElWSNZEYFWGQRXz8XGdrHcRyPavVfAGpPfaO8MjFmgbbk16WHrt6HmY7DqK5kdf1ANPFM9BTx0rtPP6C0UUZoAKKSlpXAT1qC5jMsDJ7VOBg0hGTSauBxpkljZkyc56GpY/3hGBk981sX2li4bzU+WQfrUUcIh5eM7h1wK5HTsz0Y14ctupXFoqoZWICDrmsu4DXcnlwxbogfvGtaWG4vplBBWEdvWtKGwRAAqgD0pqm2rEqvybmHbaX5SgFR9MVqW+nDA4wPpWksKp25p/bpVwoW3MamJlIijt0jGAoqbGKOtANbqKWxztt7hiilozT1JEFOpAeaWhDCiikpgNJxWdq2oLp9uX6seAK0Cea5PxNciK8RZB8nbNZ1ZWRrh4c87FCJri9nM1y7bc8AmuighimtQigZxwawSRIi7TwfStHS52BKtwFrmpu9z0a1JRjdEmnXE1vdyWspJK8qT3roIpRKgYd6xNRixJHeR9R94DvV2znGcdjW0ZcuhxThzRuaWaUU3r0pwrc5haKKKAENFB6UhoAQ9cDrTN2TjvTj0rnNW11opTbWo+cfeNTOXKiqdKVV2R0XmAcFhTtwxXJ2dxLNIvmSHmttZ2tiGc5Q1mqtzWpQcNDSzS0xXDAEdKcK1WpgOooopgFFFFABRRRQAUUUUAFFFFABRRRQAUUUUAFFFFABRRRQAUUUUAFFFFABRRRQAUlHeigBPemswAyeBSswHWsDV9VxmGI89zUTkkrlwg5OwzVtVDqY4W4U8+9c/JPuPmKQB0waSWcDO48mqVxKmT2GK82pU5j1aFLkJJZyOflqvJKGfdgZx2qNiPLGcEmotxDc9OnFY26m73JfMwCcVG7jt3ppbOeuKTjHNIpIUL3JwO9Ncr91SzCk34qN5SBwwU+1MYx9o45BqDJd8A4b+9Ujvu+UnJ9RUTFW/dA7Se9Fx2BQGLBjyP1p/l/KvmDjtTFPJjbtxn1pQSr7SSxHr0oCxoQgDBHFJdXwhGAcmqk13iPOQMdcGsq4ucjcpzn1pD5Ce7vt+SDzVRLgshUjB9aquDLwx2tSYeMZzk+hosWixLMVGVNVzck9Dk1FNNgdOarqGkkGOKaiO5ejIZSW+9XoPwtvED3to5xKW3L7iuHt4egIya6Hw7KNM12C8X5Q3yuB6Vrh52lY5cZHnhoeydhS4qGGeK4iEkThlPOQalyK9RWex4L03HdqSjNFUK4opaQUtAwpKWkoAQ0mM06ilYBu3HQUoz3paKAFpMUtITTAKYCMmnFgM54xWVca1bwyeXGdz5xxScktxqMpPQ0wRS5rHOqvGA0iYX1FXra9iuFDK2c96hVIt2KlSkldFpepp1MXGafWhAUUUUANIz0rnvFOnC8sy4BJUc/Sug9abIiuhRxlSOamceaNi6VTklznlun3zWM/2W7P7s/wCrat0yiP59wA7H1rN8UaMbSRgBlJDlWx92saM3klp5BckL0YmvMlJ0nY92DVWKl3O2j1iKSNYgwJ6VoxkKFdfxxXmtqksFwCXJI966uy1jkI7UQr6mVXD6e6dnbSrInJ5q1XP2d4N4IIxW4kgdAw6GvQpTUkeTVpyg9SSikpRWpjcDSHpS0YoGyOQ7YmPoK8yu7zytbLP0kcivTpF3IV9RXlfiG3IvZRjDxuStc+J+E7sBbnsdDCNrow6GtuQebY471y2j363NnHub514INdDbXSeThmHNYQklY6MRTbZqafJvgA7ir4rEs5PLkAJ4NbIOcH1rshK6PNqxcWPopBS1ZmFFFFABSUUUALRRRQAUUlLQAUlLSUALRRRQAUUlLQAUUlFAC0UUUAFFFJmgBaKbk0uaACkJ7U0tziqeo3y2kJP8XYUpNRV2EU5OyKmsaiIEMaN8xrlZZtxJYEn1qW4lMrF25JNVGbg5PWvNr1W3oevh6PKtSvM4Y5xVZypxnoamduCKqt90jPNc+h0oRAFLbunahfunFIzZQc9KY7Dgk4zRcqw9iQOtRO5T3zSSuFJBPHrVczjp1HrSHYkeX9agMiOxBGD2qGSTk7SaqSSyGMsCOO9BSRdMxVSqjn1qCSXJUOcH1qk0sjkAOORz7VGrnJjbLMOjUWHY0g5LkMcEDimi5cRFT19apgzOu04B7GnMjN95sfSgYrzYO0jPrUQj8xiAcCnBSQFzn3qbymCbh1oFdkIhDKA/BHSmyDfyTtcdKtsFKjd1o8oysCUyMdadxbGb9nZ+etWIbQlcCP5j3rXtNPJOMcGty0sUi+8tFw5kY9tpsoRDjBrQSwkV/p1961gYh14ApHvII16gkd6iLs7kJNvUdY317pwzFIdn9w1sweMlQ4uY/k7tXJXerRHv83rWNJcedOcuXNbwrzRjPCU5bnslhrVlqK5tplb2zWjmvCkN1BJ9ognMcicjBr0Hwh4uGqoLK7wlwo45+9XbSxKk7HBXwkqa5lsdoKdTFp1dRxIWiiigAooooAKSlooAKaadTW/lSewGPrV3JHCIYs737iudhQQy7nBZ8966Scq138wGe2apXtmQ/mLyK5J80jvoSUE13Jl2XVsUbA3DFZNi0thetauTsJyhp8E7ROc5PtUt/iVY5AQGHelG1tDblcdHszoLOfzlO7hhwatg5NcvBcSQyIxbNdDBOJ4w64963pVFJWOCtRdN36FiimqcilzWxgncKQ0uKMcUDsZusacNQsJYzjfj5TXmcgktpnhYYKHH1r10jkVxPjDSDEpvoV4/iFcuJpcyuduDrcr5GcRLc/vM9KfHdkyKwbpVC6bj0YngUCWJIwGPze1eU99D24rS52mm3pO0cmuy0y78yPYx5FeUadqJaUIhxiu40q5b5WY8j9a6KFXllZnFiqLlHQ7MHNLUFvJ5qBu+Kmr1Yu6ueLJWdhe1FITRVCAmuA8YW/kagJAPldf1rvmrlPG8BfTY5gM7DzWVdXib4WfLVRwULyQl2icqTVvT9SujcBZZCVrLMoVTnvSwSiNgynn3ry3J9D37J6s9GtLrzEUg810lrJvhHrivNdO1RRKFLda7nRLkTIwB4rpw9XWx5uNo2V0bApaaOKdXoHlXClpM0DmgYtFFFABRSUtABSUtFABRRRQAUUUUAJS0UUAFFFFABRRRQAhooNNz6UAOpCaQsB1NZ1/qkdqhCtuf+VRKaRUYt7E93eR2sZYkbh0FctdXT3Mhlc8dlqO4v2nctKxYnpWfJNhtxPFcFWu3oehQw9tWPmkBBNVJHyvFNlnDITmq7TBwNpxXNe53WsLLKCMCqbt+8yOhqZ2y3GPeoJXDMAq8CkUkBY1C8wZiuOnOaV2OOuKrOTk7TwRzTGMZizfeyDTCzMSAOBxTfutioySm7D5U9fakykh7HB4P1quyMXKnABpjk4JHTt70+NGcKxXJ/lQUiv5WMgKRg9anSNztO3g1ZFu+TtOVI5qYIFi45NFxlUIFk24J9/SneSRkjmpm4UFW+buKQEgejUCI1QbwCOak2jaRThIf+BU3Jyd3ekA1SvUjNWraM9vyqugDnAGBV+ECMjHWlcGjTt9qRgnipJboLHkMBWXcXO0ff49Kz7i68xdoNJslQJb7VzGdinP0rLkv5mzyQKc6qBk8n1qCXbjOOaEapIjMru3LVbSZIPm5Jqise85zirMcfctmm9NhuyJTcSTtjJUVf01Jba9trsAqVkHTvS2NqsrDcoNbfkqlsMKAVGBWlG6lc568lKNj1S0mE1tHICDuUGp65/wjcm40NNzZZSQc1vivYi7q589NWk0OoooqiQooooAKKKSgApD1paTvQwZj6vaSSYkibDCqNpqSzKYLj5JF4Ge9dHKgdSCK5HWtOYyiVPldTwRXLVTWqOug01ZjdTdLYFywAHP1rmE157m9Ean5AfWtG+tptRgCyyEFRXNC0FlMccnPWuGrNqVketRipR1O4S5VoAcgmrmn37WsoDH92/XPauIj1Ty2VWcitODUkmBVzx2q1V5WYyoc6sz0tHDIGU5BpwNc1oOrbz9llb3Un0rpF5zXoUqimjxqlN052HiigdKWtSRpO33zVe8gS4tnhkGUcYqzTXHy9KTV1YE7O6PGdc0o2OoS27gjByh9qxwiRthhuxXqfjPSPttiLmJQJY+SR1IrzSVADnFePiaXJK6PfwVfnjZi2+wShkXBrq9JudyYJ5rlYucDGK1bGcwOATxXOn1Oiavoei6Zd4IVjW0CK4qzuwyqwODXUWF2J4hk/NXq4eqmrM8TFUXF3L3WikFLXYziQNWXrtobvR7iEDLFTitRulMZd+5T0IxUyV0VF2lc8Du5jArqeqkioLO489SS4WtPxdpxs9buoV4XOR+NYFlaCT5DIVOa8ma5Wz6ShJTpJnS6TfQwXAWQbia9B0O5U3K7OAe1ebWVsEmVmAJFd9o5UKkgQAjHNKm+WSMsVFSpnbdRSio4m3Rqakr2Iu6Pn2rMXFA6UUDpQgCloopgFFFFABRRRQAUUUUAFFFFABRRRQAUUUlABmkzUckkcYy7gfjWZda7BDwnzmolOMdyowlLZGuTgc1TutRt7YZZ+fQVzVzrM8xOG2L6VnyT4O8yZNYTxKWiOqGEb3Ni81qSbIjG1fWsWWZmcknNQtdqc561C10h9K5JVG2d1KlGItxKQMDrVJ5WK4JqWSZDz3qnIQTkGsbHRZETydu1MMwUjmmSSdh0qq554p2AsNNtyd3Wo/tGF4PNVSQDUbyZHFKwyc3JY4JoZ8rxVYZI5Wn9GG0c0DCQtuFMC8kg/N6VY2tjjoetCgIvKj60iiJYCzhj1z92pxCyksh+tKNhwWzx2phmf5sjCdqCiQOVH7vp3pTlh8n41E0pUDy8Mcd6geVSuUkIfuKAsWGkVfujLd6axUgMT8w9KrNMeBsGSOSKah2kxlsd6B2LHmFuV69zQGZvvdBVdWx3+XuKep28gfKe1K4rF2Jgx3CnPPtJK9aoPKI87W2mmiUvEdz4560ASyTebGSc5qAZCjceaC4J5YLULTYPTp0PrRYbZKwyRk0OFHWq6y+bknqKjLl+TTsRcm3KCdtT24DdTVHzNhPBNSwzgLu707A5aWOjtpPKiz0q39t8w5HQDmuZ+3HqccdjUN9qbQaVPPAT5gH3V9K3px1uc09j2HwHJ5mnSkfd3cV1w615J4E8eaTa6JBaNHNG/V2YdzXp1jqFrqEAltZVdT+dehCWljyK8XzNl4GlpijA5pSM1oYodRSCloAKSlooAQ9KQ0tFACdqz9StxLAWA5FaNMYZGD0qZK6sVB8rued3sz25bdXMahdEgt0rvPEWnGJvNRfkP3q881a2lRieWiJryKycJWPew0lUjdFB7lWcbcswrQsLxQD53HpVFjFFEAV2qRzVaJfNnHXyQajfQ6Za6HeWcpKK6HGOQa7bRdTF3BskOHXgZ7153pkhICluB0HtW7CzRuksR+Za1oVnCVjgxVFTR6ADxS1m6ZqCXkA5+cDDD3q+DmvVUrnjOLi7MfTT0paTFNiI5VWSJkYZDDFeRa/p503UXhPQnK/SvYCK5Dx1pZudO+1oMvEO3pXPiafNA6sJVcJnnG5xjPSrkchZV9qzGY8Z6DkVYhmLodpHuDXj7aHu3uuY6OyugigE10djeNG4fPyntXAWtywbAGSPXpXRWdwSFJYVcJODuY1afOj0e2lWZAw9KmNcpo+piOYI7HBrqA4ZQwPBr2KVRTieHWpOErD80nB5pe1Ia2Muh5f8S7cQ3kFwo+aTqa4m3bZLyor0f4pxf8SSK4x9xwK8qgm+ZSei815WJjaVz3MA+anY6u22khq67SZMooHSuIsbkOAcbq6bSroGXaTtHpWO9jWSbTiegafJvix6VdFYmmTfMBu4NbfevVoyvG54daHLKwtAooFaoyCloopgFFFFABRRRQAUUUUAFFFFABRRRQAUlLRQB5/c6jPP9+U/SqMlwF71Te49apz3J9a8eUnLc9+EIxWhfku+c5qpJdgnhjWfJcEg81WeYVny2LWu5pG5Ld6jNzgcms8TADINMabNUOxofa+cUhnBPJ4rNMnfNN8496Bl1pAM4qItnp3qAS570ocEEGgB7KCOKjaPj0pRKmzaOtOMwPysR0oBD448pwcmn7cNkAZ9Kg8xAPlbmmrLswJD82aRViwzA/Kp+tMYpnZk5FVmlKglW5Jpjytv2ggtigaRO07O2xGGAec1GZZJtyNwByKrsFdNoJEgp5kbaArDI60mUIkwlUqMgqetIzkLlgAfameYUbGBg9aaDtZpM7loGSKxjGCSd3INIEw3mM2Se2aaspA3KNwPalaRMbyPm9KCSyFRiH3YHpSGXZIWA+X09Kr+aCok6eoqNpC2ZARtx0pWAmkkjJ3HBqEyjGe3pUOcgMF4NPHURlcZ5zTsNji285OSKBuwT1HalDlTtxxQBufI6CnYzkLj5dyj60qhSNwP4U3oTjpShVX5vWnYnUcMEY25OKPLBXinLkcjHPFTIhChV5qgKE8LH7p5qBoZMbSCVPBHtW55K4CsPmNOMUSrgjmtIysZtXM3TVjhIiCjjPJrd07U73RbhZbaZtpPzLnis2SKIHKcNTVmbBV6tTaZnOkmj3PQdbh1uxWeI4ccOvoa1wa8f8Dau1hrUduz/uJ88e9evDpx3rtpy5keRWhySsPpaQUtaGYUUUUAFFFFABTadSUmBXurZLqBo3XIIxXnev6S9s5Qr8h6V6XWfqdhHfWzKyjcPumuevR51c6cNXdOVjx2408bv3gyB0Wo/IVVwqbT6V0t5ZtBcNDKvzA8fSqMlkSSRXlSi4aM9xVVJXRQtnMcgIYlvSulsbxXVVPXvXOFPJc5FSxXJjbIoSsrikuY7SC4NvMJ4jhR1HrXVWlylzCsinr2rzrT9R3MN/T0resL4282+Mkqeo9K66Fe255+Jw19UdeDTqr29wlxGGU1NXoqSkro8vl5dGKaguoEurWSCQZVxg1NSEdvWm1dWC9tTwjWLVtP1ee1fICMdo9RVaFvNlCkEAeldn8T9LMQg1SNOAdsuPSuEsrlWJ+fArx61Plnc+hw1RVKSLs90sJ2s4AHp1rY0m7SaJTjb9TWFeWi3EG+3X58dTWTZ3d5Z3QW5bKg/cWs0uY6Iq6PTIZxHKG8zK+wrs9GvvPjEbn5scV53p9+t0EVYxGuOVPeuj028EMwYHnOK1o1GpWOLF0VKDZ3INBpsTh1BHcU/tXrp3R4drM5L4h2v2nwlcgDJX5q8AhuixC54HWvpvW7VbzRruBhndGcflXy5eQvZ3c8RGCshFcWKj1PXyyW6O00Zi8WQCMe1a1pqH2e8UMMgmue8M3xkfynZgDS3uYdSYGV9ucjNcWyPQUdWeu6dco4jYEAnsDXVxMGjBry7w3dBrdWLkkV6Pp0vm2ytXZhal9DyMbT5dS7RSCgV3nnrUdRRRQAUUUUAFFFFABRRRQAUUUUAJS0UUAFFFFAHissvoapSSY6nNNd2PQ1XkkY9hXjH0Y2Wb5vaoTNzTJGJNQE80DuTGajzaqluaXzBQBOZO+aYZvSq7SfN7Um/igdi0smASTS+adpaqbMWOO1HmHOBQOxYMpAAHU0CTEnPPFQhiSOOlOLHcOKQ7E4ZQ3B5pxl3kMwyRxUI25oEgDGiwIe21ueRTGcCUOBioxJgMPWmhxjmgof5oViS3Wm7l+ZQT65qJpFLdKUSt5hUrxigCTIYKwbp1pd+1iAPlPT3pqBMhfXrSufmx2XpSsA8S7U+VcN3FMZmDBu9RnO7f39KRSxyTQIkZyXIPQ1GQCdvQU6NCTk08x5OaLANjUAn5jijJVSDyc8GpRHjBFSCIAcjigRCdxww/KpAcc4xnrUqp8v3eKesGAAf4qBPYr4O7jkUu3DHLcDtU5iCcA0BM8EfjVEkUaknI5Gc4qzEHxxxTFQK2M4qQKVJOTTCxZiXzCCx5FLNGqHJbNVUkYNx0qV1aRhU3FymdOSJCVP4VLbnzflPWnz2rLIG7VLCEByF5FVfsUkupY09WttUtyR0cYr3a3cvbwv6qK8TsEa4vYsr0YV7XZDFlEPRRXfh3oePjUk9CcvigNmmk/NiqN1qltaE72y3oK6JSSOKKcnZI0d3NAasNPEto0mw8VqQ3Mc65jYHPapVSLLlSnH4kWc0maQHPBpQarVkbC0YopaYDSO1Jtp1BFAGFr2ki7gMsY/eryOOvtXGBWG4MMMDgrXpzdK5HxDpvkT/a4V+VuGHvXFiaCfvHbha7T5GcddRdRj5qzJW2cNxXQ3EfynjLetYd1Dhizc15yfQ9eIlpdNv4OFHc10FnqKnATk+vrXJMFJ3SNsUdAO9W7K/ZXHyhYx0JpNW2Kcebc76w1Q20nXd6r6V1drcrcxhlNebQTiePfbsGbvXQ6NqTROqtwOhFduHrtWTZ5uJw2jaOv7ZFIw75pI3DqCpBFOz2NeirPVHlvTRmdrWmpq2lXFpIAVdDjjvXzxdRTaZqUtnIMeS5HPcV9MHgZryX4qeG2Vl1e1Q5J/e4rmxNNSR34GvySs9mctDeJcQhS+0dBjvVPULYwn5EOf7/Wsu3uGXEgHA7VtwamZU2MoIPc15kbxPbfuq5NotzKuAxLH+96V21jIp2nqQK4yIrE429T6V0emTEkUr2d0TOKasz0XRbrzYPLY/MOla+cCuO0258mRHB4HUV10UiyRhx3Ferh5qUTwMTT5J+QrrvQqeh4r5y8e6W1j4iuuPlZtwr6P4xXlPxU01ZJknC9VwTTxCvE1wE+WrbueV6VctBKCDk10t0yXEKP5Z3jvXIW48ucY9a6+zl82BVKjFeZ6nvSupaGz4XuT5hiKbRXqejTjZszXlumqsVwGWu90mYq8bg8Grw75ZnBjIqUDrwKUdKYjB1DDpTxXr3ueFa2gtFFFMAooooAKKKKAEpaKKACiiigAooooASilooA+fnkB9qru59aY7E/e4prNwK8Y+kGtJz71E0vXjmlLgH3qDzckjHNNAPLcZIqIsaUMec0wk0wDd2PWgMSaAM9etAjJNA0xcMaApVvrTvYUFsD3pFXFUjkY5p24Ac9ajL4AwOab5g3YapAkLd880hPOSM1EWGeKQFixAPFA0O3c7tvFJv3HgbaFzkjtQItxy7Y9KBioCWYZ7UrErjA69acqv028HoaesZJ5NITGEE4OMcUoDtjPOKsLAWPXipEhIoApBCZeR2zU0UW/qcVbSIZO5eaetsCOBQLmKohZFYnPXipViBwecelXPKJcDcNqjml2KQzhhgcCgOYrxxKDkjj09KkKoOrbh6elLtKDjlj1pCqocAdepoEKcDAGMU2SYDhevakIyuc1CQD8o+8e9ADS+/JPBHalUkqGzgdhTvLKkKBk9zTzF0A5AqgIQxD5Y5qxHMM7W4prIQMBeaWO23ffPNMEi3Csch2DHNasGmiUqV6VQsrN/wCFfxrqdLtmjjG8VFrhJ2RR/sEynpxTx4cCdUya6aMrtCjgip1GRjFWonPKrZGDpuibbuJQvQ5avRYlCRKo7CsjS7MqxmYfStnPAr0KEbI8nEVOZlLUbgxW7bDhjXKrE7TeY/zHPeusuYlmbaazbuz8oHaOe1RVua4Woo6NamJcaasyF4wFkHcVXs9QltZfJdiJF7+taBZomyT9aydaWJ40nQ7ZFOfrWF2lzHoJc/us67T9ZiuMRyNtkHrWuGBrzO3laS3WVvkkHQ1u6Z4gkt3WG75Q9HreliL6M4cRhOXVHY5NOqGF0eMOjZVuRUorrODbQWikooARhVe6gW5haJhkEVYfgU09BSaurAnyu551eQNbXL27DleR9KxrxAimQjIPQV6D4h0wXMJnhH71Rz9K4Kfa5ZX6jjHvXk16XI7ntYWtzxOcuoW3+bL90cj2qm85vCUD+UF7+ta18ild0jYK9E9aw7pSmJWXGPuqKzirnfF2NHTNTNhKAzlV7j1rsrG9S5QSKNua83XMX7y4XLSdF9K6bSb6SBUiI69/SpleL0JmlJWPTNI1Ly28mRsr2NdCCrgEH5e1cDZTKw254Pet/TtT2MIZj8nYmu7D1+jPGxOGtqjoeMYNU9SsItSsZrWZQyOuKtAhhkfd7Gg13WujhTaeh82a/pEmh63JayD5Qcp6Yqujr0x+VeqfFHQPtVimowr+8j4YivH4Lja5RuteXUhZn0eFq+3gdBbSDaNoy1dDp1yoIA+Vu9cjaTFeSa1reYghgc1z26G0t7noFlKpXrnPWuq0u6+Xy2PHavPtNuyBgV1VpMco3TFaUKjhKxw4ulzxudZXHfEG2E2jq+OQetdTbTLPFuB5rC8bukfhqd37dK9Oo+aB5VC8ayR86XK+Rc8dM1uaXOpjHPNYd7IHlJNO0+4ZJeDxXmSjqfTyO/sZgGUA9a7TS5cRhc8V51pN0rkZrtdOuMY5qfh1OOpHm0PQNPm8yEDPSrw6VzmlXWw8nqa6JTlQa9WjLmgeJXhyzFpaSitjEWiiigAooooASloooAKKSloAKKKKACiikoA+dCRnGM0xzxSGQ7eBzUZJPWvHPoyJzzTCMc1IRk03qcUANAyMmnBAeaXYSMU9Y8D5uKBjCu3kCmt7dakLbR61A7YO6nYQm/AphctxQSSM04Idp4pFWGA7QRQF3AipBHuIFSrCGOAeRQ2UokCIwXZilSElqtGI4GBk1YjtThW71LY2VxCcjipfs5z8q1bWFt+MGplQocdc0iGyokJ45/CnrAoY1aWMDJI5p5i+UZHNMVyskSg8jNSLEBzjFT7QnI60uwtznPtQBCqc5UZp+Mck5PoKkJwPl4HelVUxuA5oEMVFHJX71DlFwowM0p3srFmAPYVATuXkZakMa7tvKZGB3qMlSp5z7VI6qAeMk1EYtqHaPmJpjEypbBBp6qDn5cUscLuwzxV2GDc2G7dKTHcqiAkipxabjV+K3y2CvFXorDdyRgdqVxGNHYMz9OK0IdMJPzCteKzG3FXobYKPmpXfQTmkVbLTo0AOMmtiC02rtxgCnwRDgBfxq6sTAbnOK6Y01a7OWda+hBHCrdav2tl5rgsPlHSqMOp2i362gIZmNdIoCgBRgV0UYJu5wV6jWgIoVQAMAU6jFFdaVjjuQzoxXcnUVX80Ou2ZcH1q9g44qCeIyL0qJouLMa+tRsJXBrhvEFwY8Qp97PNd1PHLEjISWz+lcfq1lteRiu44zurgrdj2cHLuZlreFLdUJ5qwl4sgIfmsiYhBuAxVUTuTlTgd65r2O5wudrpWty2L5Vy8Pdc13FjqVvqEIeBwfVe4ryG3nyQU+X1z3rWtbqa2kDwu0bdeDwa6qNfl3PMxGE5ndHqYz1z17U/tXL6R4nSYiK6wjnjd2NdKkiuoZWBB7iu+NRSPLnTdN6jsUuaQdaXHNVYm9xrAY6Zz1ri/EegmOQ3tqmR1ZRXbU10DKVIBU9Qazq0lUVmaUqjpyujx57eOYszD5yeh7VmXdlEh3bd8g6CvR9d8MiTddWYw4OSg71yEkQDMHXZL0IIrzKlF0z2qOIjM5doPKk8+6wSfuqO1TwO24EtnuPpVyWxTzN3LfWoWhZeAAB6VmpX0Oltm7pt4RgGuhjkWdNucA96421kaMDIrctLrCj3qNpEzhzI6/SdSKSfZLg4X+Bia3xyc5zxXDI6zRhWbDLyGrc07WVVBDdfIRwHP8VepQrpqzPGxGHcdUaWqWqXumzwuMhlNfL2uWklhq80OeVc19N32t6bYW5kuL2FFx3YV81+LNSt9S8RXU9uQY2Y7SO9TiNdTpyxyje5DZ329Qp+9mt21uQAM9a4xJWidT781s2l6GAGea45o9VO53mn3PIbPSux0+4MsYJPNeY2N3sYZbOa7XSrwMFrn2M6kbnZW1y8J3p8wA5X1rzL4heJdU1GX7D9maG1B59676Cbco5xjpiqusaVb6nE29PmxwxrrjWurHCqUYT5meDTbi3Q1WVyj13+reFWhYlFz9K4+90uaGQ5U8UPU9HnUkjR0m6IkTmvQtOlVwrdfpXlllvjcYB4NehaDMTGuW5rGYpK6O5sZQCOcV0unXW9AjHkVxtu3zBicVtWlxtKsDW9Grys83E0uZHUjpS1BbyiWIMDmpRXpx1VzyZaOw+kooppgLRRSUwFopKKAFopKWgAopKWgAopKKAPm0uB2prNmmEk9KUAmvHPpAA5pyrk0gBHUVJGDnpSuA4R4zUbMM81ZZcJVcpxk0XCxDIwY4HWoWjOME1YMR3Z25zTlt3LDNPmQ7FUKemKnEfy8de1Xo7MuQcVo2+lsWU7DUuQzGFqxZT3NXILQg429a3YNJBcswzV6KxUIML0NK4cxz0Wn7WXd15q2LRfLUOPyrb+yKCG2nihrfOOPmoFzGK0JViqgbajMHA471syWyg7j96oHtW46etFxGQVPzfWnZ+UZq69s3IA696aLXPGM4p3EU8fN7U7YV6Va+znP3TipBbvQBREZLD0qXyx0FW/s/IGMGni2wKAM0xsXIbgDpSeX82CMCtFoyMZQsB3FJ5TMcsvy9qQXM8QD7uw5pwthj7vNaAtTy2TmnQWrFvmzRZhzIrx2gyDirMVqckAcmtKKBeKtLEM8Lz60bEuRVt7UqfmFaKW4AGRxT44um4VbihZj0+UdTTUGzOdRRWpFHbg9BVpLYrwi8+hqWee2061M1wwXjIB6muXufFdzdHFkgjX1Yc1peMTGLnP4Tqi8dmm+4YKR/D61i3mqPdsUhJCjvWSgubwhrh2bPqa2LKzAA4GKTnzaIpUuXWQyxtP9Kimx86nk13adB9Kw9PtSZweNordxxgV34eLjE8/FSTloLRQAaXFdBzCUHpS4oPSkBUurcSLletc5qVjvUqePWutxVK9tBLGSMA1z16V1dHTh6zjJXPK9R0dyzbOlc/NbzW79ePSvTb+xkRSMVzt9pIlG/BBrzJxaep7kKqlHQ5+BiYueDWjay9Ax6VBJbPCduMihRg9cVD8iua6NTCsOK0NO8QXmmHaWMsA6qeorASYg4zT/ALWcgEce1awrOJhVoRmtT0/S9atNSiBik2ueqN1rSHBxXkAlKSia3YpIO4NdRo/jNo9sOprgdBMOld9LExlozy6+DlHWJ3Xaiq9vcw3UYkglV1PQg1LuA471177HG9NwI5rA13w9HqCGWABJgPzroQPfrSHp6VE4Ka1HCbg7o8jnhMUrQTKVcVX8nIIXnHevSNd0GLUYjIgCzDnPrXDy2slvKYZEKkfrXmVqLhqj2sNiVJWZklCnWrEEoUrj1qaaHKkLzjvVJkeMAkj1rnvc672NqG5POD3rUEyyxhJFXbjrnmuatbgYIPU1pQzj+LB9KlScXoTOKktTF8S+DItQBmt5JUPUgucV5/d+HZrWQ/KR9a9piuCU2/eHvVO/06C+QlwA3tXQ6jaMY+5seF3VrLFJ8wqKKRkYEHFen6l4bUqw2giuRvdAkhLEL+lCdzRSZDaXYwp3c12Gi6jtZQTmuEW1kh5IxitOwvDFOoPFROKZtF3PX7K5EqAg9qvLNkbTXHaTfj5V3de9dEs4bgfnWKdjGpC7JLuFHzxurmNU0yGXdlAK6gPx1rPvgpU5qudglbY8+m0kQyMQOK09IZoZFGeKu3kQ5BNUImEVwoPTNGsjojsdnbS70rTt5doGe9c9azqkY5zmtaC4XjvSvYxlHU6jTrnYwUn5TW4CMZrj7aYgg9q6KxuhMgU9a9LD1r6M8fFUbO6L9OpmccU7NdxxJi0UmaKLjFooooAKKSloAKKKSgBaSlpKAPmkKQcDpTthHepViJGCDU0cPmD5VIA9a8W59KyCNCSMnirAT+6Ksx256Yqwtvjjac0hFJYGPUU77GztgCtaCzzkkGrkVmByKAuYkdixONtXYdOzyy1tRWag5Aq4kKhOBzSBzM230xSm7b0q9FZ4A56VciTaMYqQAg4wPyquUzciukW0cilEfYCrITJ5qUIuRxQkS5FXyjjGKieA7q0Qg3UOiVVhcxlNAveovIBU1qsqAZIqJ41YcYApWKUjKMQA570hgCrwOa0JI1A21GEBPzcVNikyiIiOCKlSHjpVh0UnjNIM9hTBsgFvySaUwD0q0QSQCeKf5QPfinYXMUGg4CjvQtruO3NaiQA5wKTygV4ByDRYnmM7yG3YxVpLbCgEc1cjgBckg1MsQPJp2E5FVYF4wKsqgUDAqZYvSniIg8dD1o5bkOQkabjgCpbi6i02zeaYjAHC+pqWGIAZx0rG19PtMkEXUnoKq9kZN8zszj9QvLzWbtpLkssef3aD0q9YW5GPkrWbTFyBt5HWrVpZeW+3Fc+rZ380Ix90ktLUYBrXtbfcQAKiggO8IBknuK3LW3ESgkc120aPc87EYjsSW8AiXgc1NjHNKKMV6CVlY81u7uA6UtFFMQUUUUAFNbpTqaaAK1xbJOhBHP0rBu9Mxn5TXT471HJEsgw1YVaEZam9GvKmzgLzTQQSBXP3Fs0ch4r0q607qVHy1z1/pysCSvIrzalJxZ6tLExnocYQAaTcrfL0q9c2jRueKoTYDiNR89Y2Otu42RmiAIBYZ7VOk6yLslIZf7vpViGFGjzGQSB84qB4Iix28NRfl1Qmk9GTW17e6XKJ9PnYKP8AlmTwfau20PxrZ6ltguwLe7/useD9K4EB0YZ6VXuoFmORw3Zh1H0rroYl7M462EhLVHt6MW54IPQ1JXj2j+M9Q0Fliui11aDjn7w/GvSdH1+w1u3D2k4LEZMeeRXfComeVVoSpvU1iO/esjWtIj1C3Z0UCZRkEd61hn0pGZQOvQ1coKSsZQnKL5keYFXilMMqFZFP3SOtV7iJWY56+npXYeLdIae1N7bJi4Tk49K4qK5WeMMO9eXiKXI9D28LX9otSm0TpJlelW7eTkBjzTyqMpzVd0K8pXLY7G0zZhfgYNTM5A6Vi21ywOCeau/aSv32q0zKSLLlWwGqhPp8UoOQOatpLFKQcH86kKZ5xTvYg4+/0NcHaP0rnLrTmhJIHIr0edODlawr6CNgeMU73NISMHSr7yyqOcEV2FvfB7cBTzXE3dsY5S8YPBrR0u+IwGBzUuKNrJnWx6gcYY0lxcBk69ay5AZAGSl3vgB+tZtC5UNuAWaqbQ/PnHNWXk+b1FR7stxTWg1oXrYkRDir9tOQ4B4FUInCxgE4NTqGyOeakmR0drPuwO1a9rOYyHB5HaudtZMKoHU9a1oHwdwrelOzOatDmR10E6zRqR1qYVz9hdFZRzwTzW8rhlyDXrUqikjxqtLkkPxRSZ5pa1Mri0UlLQAUUUUAFFFFABRRSUAeCx2ZZx2q6lmx6DArWi0/nOKtR2gxyK8Sx9I5IyI7MpyBU6WwOMitRbTsBwamittp5pk8xSS3wn3anSAqo+WrwgqURYGKCeYprAzJgDBp6x4TaetWREc5BNOEP1piuQIhLCpduTUvlDtwacseR1o1IbREFFPVcGpRFxxSiI+lHKyeePchZ8HpUEj9fWrbwsOqmoWgPUinZgpR7lNmbHNReYQeM1baAtx0pjW2Kl3LTRAXXGT1pMBxluDU/wBmJYcUq25y3FJMq6Kyg+nFPUEHpVmOA45xUhh57VSJbK6xEnkVMIsDGKmEZyM08KQaqxDYxVwwUDtTtowQMZqTH504IOtOwrkaxkck5p6pgYA5qREzUoAXrVWIk7DFTjpTlQA0pcKKiMnOaROpO02xSqjms9rdZJvNk++Pu1M8noag+d2yCfrRoVGNtWT+WGGV6/xU6OMmTy1HXvRFG2MDv1rZtLMQqCQCferp0uZ3MKtTlHWdqsCfNy3rVrGacBxRXoRjZHDJtsBS0lFUIWiiigAooooAKQ0tJQAlBxS4oxSAYwB4PSsy/s9yllrWxTWUEEMOKzqU1JFwnyu6OEubEM/zCuX1CxkihklUfPk4+lem31gCrFBXL3dsWklicfLivNq0nFntYfEKSPNre/ubVpXBJ5w1b6X1vcW0bKuHPU06+0CKWPy7c4k6v71krbT6eu8ruzxj0rFrudrs1dGj5qkFc5NN3YqtGGx5nQGniTJyalWWxFh8kYZNowSazgl5pV0LvTpTFKDng8GtNCrEnpTWIc4xVxqOLIlTjP4kdX4b+JUFy4s9XBt7gceYR8prs5Nb02OEzNfw7MZzuFeJ3mnx3AywGR0rnr7TbwKypNIU9C3Fd0MVpY4KmCTldPQ9D8cfE+FLOSy0Z/MdvlaXsK4jw7qz7fLkYsc9fWuVkt7iBSrIce1W9Nn8mUYBHNRVfOjelRVPY9MScMKeH7VhWl6GUfNV8XGRkEZrj5bM2uWZwRynWo0vSTtYbvekSbcvJqpcMXc+UQpHehRZaZoiUp8wk/4DV231EMApauWS6QMVnyW9RTDcSRP5kZ49DV8txOJ2srq8WQ1Yt4isD3qta6n5i5J5xyKRp94PNRytCSsUJoDk571BDCYZN3atFsNjJqN4sinZlRbL9vIXAKnin3GGXg1UgbYQo4FWpcEDFSWV0YISrDr3pzKqgFetQv8AM+7PSplwQGp2C5MjApkrk1Zilyh4wazixVuCcVJFL8xGeaVgubVrPgD1rat5cgelc1bSAsoPFbVu5P3uBQkRJaGxG/Py9a3bC7yAjHmuYjkxgLV23l2/NuORXRRqcrscNelzK51wpe1VLK4E8I55FWhXqRldHkyVnYUUtJS1QgopKWgAopKWgApKKKAOISBR2pTDk8Yq0qZPC1ZSxmcj5cV5ShJnsSrRXUzxDtHSnJCCa2otLORv6VZXTol7ZrSOHclqYyxSWxhLB6c077K56Ka6JLaFei08RoOi1qsMY/W2c+llIRwp/KpBp8p7Gt7avpS9KtYZEPFSMZNKcnLGrC6YgIJ7Vo80YNWqETN15srCxhA+7TxaxD+Gp8UYq/ZxI5n3IDbRH+CmvZwsclas4NJg0eziHPJdSi2mwt0XFVpNJ6lTWvg0uKzdCLKjVkjnpNOkUZxnFV2gZTyCK6coKjaBG+8orN4SLNo4hrc5sQ8YpuzB6VvSWEbfd4qu2nEHI5rOWHcdjeOJRlKhJ9KdtwavvZuvJWoTFjlgeKjkZftYsg2804CpQmeQKPL4osw5kRjilwfWlZSBUcjFalj3I3396iLHPNPJZvanJCSeahl6JEWM1LGAuB3NPMQHAGTV6x08swklH4VdOlJsipViok1ja4G9uhrSApAoVQoHFLXowgkjzJzcncWiilqiRBS0lLTAKKKKACiiigAooooAKKKKACmmnUlADCBjHas6901Jsso5NaeBRionBSRUJyi7o4i80gxOxAIz3rInsUOWZcgcV6RLbpKMMuax77RgykoPwrgqYd9D0aOM6M89msFHyjt0xVKS2aLoK7Kew2fwYxWfLaKf4a5JQaPRVZSWhy21xz0pCxHHStq4sCQcDis24tnUHipsWpIqEnvzUUihuCeKmIwoBpkkJYZFGqE0UZbKNxyv41SbTFVsqorWXcTtapliVhmtYyfUyaMlIfKXqalSbaASTVmaLris+eMqKbJNG3mDv14p1wRjKA4PYVjwzMh68VdS4DHG7rQkWmMc7VIVeO+aT/WkHBx6CknTgkN1otXxkE1aQ7lqO2ywKHGe1K0bx560+DdG2RzmnPK/mHK8VLGMVicelSsTimfLwegpDnd7VNgFSUq2Dx71eiwUPOazmGTt71OhaJRu6UrFpjypGQO9IN20L3HanMQcEGkjz5mSaQrjyCAMim7gCcdfWp3BJ5qBvlcjHFFguTWzlXBLbvYVtWszA/Mc1gRkB8jitCGYgjBoE9joopeQR+VW0faMjv2rJhlYpnFXopBgHqaSdnczaurG5p915TqPXrXSIwZQQetcbG54Y9K6DTbkSL5ZPSvQw9W+h5WJpWdzUopFORS12nGLRRRQAUUlLQAUlLRQBXjto0GAoqXaB0FOoqVFIbbe43BzmnYooqiUhMUoFLQaAsJijmlooGJg0c0vaigAooopWAKKKKLAFFFFACUmPelNFMBNtGKWl7UANK57U0xKeqipKDSaQIqvZxnJHFQPYnkqa0KYetS6aZSm0ZL28gHIqBkIPIrbl+7VGXoawnSijohWk0UQhJ4FWYrZmHSpI+tXoelTClFvUc6srEEFkqHcRzVsLxS96UV1Rio6I5XJy3DFFLSVQhaSlooAQUtFFAgooooGFFFFABRRRQAUUUUAFJS0UANwTQBS0DrQFxOaCuetB6UUWuBTubJJlIAANYVzpZjJ4/GunPWqt5/qzXNVpR3OilWlF2Rx01p1HSs+WzGTuFdFddTWdN0rzpxUdj1aUmznrnTlI+UVlSq0LYxXUT/dP0rBvPvj61KN+Z3sZrj5h705eRgU2Xo31qNfvmi5TRIVOTVS4jB/GrJ6GoZOlWjOxmmIhiKUDcvyjBqV/vGmr0qiXoIAStQyMUPAOasVFN0qgTLlrdh02/xVZzu4NZNt98VqJUM0QONuF6ikbercjinN1FOm+4KQmRo3zZPWpVfeCGquvWpY+pplR1JcZPHajJLfSnL0prffFJoposI249z6inMARhRUNt/rDU/Y0iGV+dxwDUsEhY5yOKaaig6H60mM3rWYDb82a0omzkk/lWFa9V+tbEPSl0E0akEnHt71qWM3lOGyOayIv9WKuW/Va0pNxehzVopo6+Jw8asKkzVaz/491qwK9am7xuzxZ6SsLmikpaYhaKSlpgFFFJQB/9k=)\n"
      ]
    },
    {
      "cell_type": "markdown",
      "metadata": {
        "id": "G-jkBdBu7Pmw"
      },
      "source": [
        "** Deni Diana **\n",
        "\n",
        "** Kota Tangerang Selatan, Banten **\n",
        "\n",
        "** Email : gets.deden@gmail.com**\n",
        "\n",
        "Program jaringan saraf tiruan digunakan untuk mengenali bentuk tangan yang membentuk gunting, batu, atau kertas\n"
      ]
    },
    {
      "cell_type": "markdown",
      "metadata": {
        "id": "Bv2mD99mBqpO"
      },
      "source": [
        "**Langkah-Lahkah Yang dijalankan**\n",
        "1. Import Library yang dibutuhkan\n",
        "2. import Dataset Image\n",
        "3. Preparation Data\n",
        "4. Visualisasi Data\n",
        "5. Split\n",
        "6. Pemodelan\n",
        "7. Processing \n",
        "8. Evaluasi\n",
        "9. Kesimpulan"
      ]
    },
    {
      "cell_type": "code",
      "metadata": {
        "id": "w1I2KqGNCj9q"
      },
      "source": [
        ""
      ],
      "execution_count": null,
      "outputs": []
    },
    {
      "cell_type": "markdown",
      "metadata": {
        "id": "Phhnk6YGCkoe"
      },
      "source": [
        "# 1. Import Library"
      ]
    },
    {
      "cell_type": "markdown",
      "metadata": {
        "id": "CLHux7c-Cw2w"
      },
      "source": [
        ""
      ]
    },
    {
      "cell_type": "code",
      "metadata": {
        "colab": {
          "base_uri": "https://localhost:8080/"
        },
        "id": "hVUuaZk-a1-9",
        "outputId": "7249c596-9959-4b01-cfca-5aa2ce229fae"
      },
      "source": [
        "#import Library\n",
        "import os\n",
        "import random\n",
        "from shutil import copyfile\n",
        "import tensorflow as tf\n",
        "import matplotlib.pyplot as plt\n",
        "from tensorflow.keras.preprocessing.image import ImageDataGenerator\n",
        "from tensorflow.keras.utils import to_categorical\n",
        "from keras.callbacks import ReduceLROnPlateau\n",
        "\n",
        "print(\"Import Library Complete\")"
      ],
      "execution_count": null,
      "outputs": [
        {
          "output_type": "stream",
          "text": [
            "Import Library Complete\n"
          ],
          "name": "stdout"
        }
      ]
    },
    {
      "cell_type": "markdown",
      "metadata": {
        "id": "Zd5DkqN6C95r"
      },
      "source": [
        "# 1. Import Dataset Image"
      ]
    },
    {
      "cell_type": "code",
      "metadata": {
        "id": "d0CDmV8JdieI"
      },
      "source": [
        "# menentukan nama direktori untuk training data dan validation data\n",
        "base_dir = '/content/sample_data'\n",
        "#project_dir = os.path.join(base_dir,'Project')\n",
        "#os.mkdir(project_dir)\n",
        "os.chdir(\"/content/sample_data/Project\")\n",
        "!ls"
      ],
      "execution_count": 6,
      "outputs": []
    },
    {
      "cell_type": "code",
      "metadata": {
        "id": "Nh426ml_coHU",
        "colab": {
          "base_uri": "https://localhost:8080/"
        },
        "outputId": "05664576-6513-4441-d298-ca7b70210e60"
      },
      "source": [
        "#import Dataset Image\n",
        "!wget --no-check-certificate \\\n",
        "https://dicodingacademy.blob.core.windows.net/picodiploma/ml_pemula_academy/rockpaperscissors.zip"
      ],
      "execution_count": 9,
      "outputs": [
        {
          "output_type": "stream",
          "text": [
            "--2021-04-17 20:20:28--  https://dicodingacademy.blob.core.windows.net/picodiploma/ml_pemula_academy/rockpaperscissors.zip\n",
            "Resolving dicodingacademy.blob.core.windows.net (dicodingacademy.blob.core.windows.net)... 52.239.197.36\n",
            "Connecting to dicodingacademy.blob.core.windows.net (dicodingacademy.blob.core.windows.net)|52.239.197.36|:443... connected.\n",
            "HTTP request sent, awaiting response... 200 OK\n",
            "Length: 322873683 (308M) [application/zip]\n",
            "Saving to: ‘rockpaperscissors.zip’\n",
            "\n",
            "rockpaperscissors.z 100%[===================>] 307.92M  1.34MB/s    in 3m 17s  \n",
            "\n",
            "2021-04-17 20:23:45 (1.56 MB/s) - ‘rockpaperscissors.zip’ saved [322873683/322873683]\n",
            "\n"
          ],
          "name": "stdout"
        }
      ]
    },
    {
      "cell_type": "code",
      "metadata": {
        "id": "41Jms3YJflqB"
      },
      "source": [
        "#ekstraksi File Sip\n",
        "import zipfile\n",
        "import os\n",
        "file_downloads = '/content/sample_data/Project/rockpaperscissors.zip'\n",
        " \n",
        "read_zip= zipfile.ZipFile(file_downloads, 'r')\n",
        "read_zip.extractall('/content/sample_data/Project/')\n",
        "read_zip.close()\n",
        " \n"
      ],
      "execution_count": 10,
      "outputs": []
    },
    {
      "cell_type": "code",
      "metadata": {
        "id": "32Aj5f6uiBqT"
      },
      "source": [
        "base_dir = '/content/sample_data/Project/rockpaperscissors/rps-cv-images'"
      ],
      "execution_count": 16,
      "outputs": []
    },
    {
      "cell_type": "markdown",
      "metadata": {
        "id": "wtDT71FNDPiu"
      },
      "source": [
        "# 4. Visulisasi Data"
      ]
    },
    {
      "cell_type": "code",
      "metadata": {
        "colab": {
          "base_uri": "https://localhost:8080/"
        },
        "id": "BfhqpbX0gu8L",
        "outputId": "59f6a967-b5ee-406a-e3b5-128a39d7469b"
      },
      "source": [
        "#Check Jumlah Data Image\n",
        "os.chdir(\"/content/sample_data/Project/rockpaperscissors/\")\n",
        "countrock = len(os.listdir('/content/sample_data/Project/rockpaperscissors/rock'))\n",
        "countpaper = len(os.listdir('/content/sample_data/Project/rockpaperscissors/paper'))\n",
        "countsci = len(os.listdir('/content/sample_data/Project/rockpaperscissors/scissors'))\n",
        "print(\"Jumlah gambar rock: \", countrock)\n",
        "print(\"Jumlah gambar paper: \", countpaper)\n",
        "print(\"Jumlah gambar scissors: \", countsci)\n"
      ],
      "execution_count": 15,
      "outputs": [
        {
          "output_type": "stream",
          "text": [
            "Jumlah gambar rock:  726\n",
            "Jumlah gambar paper:  712\n",
            "Jumlah gambar scissors:  750\n"
          ],
          "name": "stdout"
        }
      ]
    },
    {
      "cell_type": "code",
      "metadata": {
        "id": "ZUY6ejdWDZ6r"
      },
      "source": [
        ""
      ],
      "execution_count": null,
      "outputs": []
    },
    {
      "cell_type": "code",
      "metadata": {
        "colab": {
          "base_uri": "https://localhost:8080/",
          "height": 350
        },
        "id": "aJcHrbeuhKbr",
        "outputId": "4b0fd633-8da0-4536-9e3c-d8b8c6946ab7"
      },
      "source": [
        "#visualisasi Jumlah Image dalam folder 'Rock', 'Paper', 'Scissors'\n",
        "import pandas as pd\n",
        "import matplotlib.pyplot as plt\n",
        "%matplotlib inline\n",
        "image_dir = pd.DataFrame({'Category': ['Rock', 'Paper', 'Scissors'], 'Total': [countrock, countpaper, countsci]})\n",
        "ax = image_dir.plot.bar(x='Category', y='Total', rot=0, figsize=(13, 5))\n",
        "plt.title('Jumlah Data Gambar dalam Direktory ')\n",
        "for p in ax.patches:\n",
        "    ax.annotate(str(p.get_height()), (p.get_x() * 1.005, p.get_height() * 1.005))"
      ],
      "execution_count": 12,
      "outputs": [
        {
          "output_type": "display_data",
          "data": {
            "image/png": "[encoded data removed]",
            "text/plain": [
              "<Figure size 936x360 with 1 Axes>"
            ]
          },
          "metadata": {
            "tags": [],
            "needs_background": "light"
          }
        }
      ]
    },
    {
      "cell_type": "markdown",
      "metadata": {
        "id": "OVfMDte9DhFe"
      },
      "source": [
        "# Split train 60 dan validation 40"
      ]
    },
    {
      "cell_type": "code",
      "metadata": {
        "colab": {
          "base_uri": "https://localhost:8080/"
        },
        "id": "n8FvjHOZf2sK",
        "outputId": "84aeedef-aa00-4889-c3cf-c9063290fd22"
      },
      "source": [
        "\n",
        "train_datagen = ImageDataGenerator( rescale = 1.0/255,\n",
        "                                          rotation_range=20,\n",
        "                                          width_shift_range=0.2,\n",
        "                                          height_shift_range=0.2,\n",
        "                                          shear_range=0.2,\n",
        "                                          zoom_range=0.2,\n",
        "                                          horizontal_flip=True,\n",
        "                                          fill_mode='nearest',\n",
        "                                           validation_split=0.4\n",
        "                                  )\n",
        "\n",
        "\n",
        "train_generator = train_datagen.flow_from_directory(base_dir,\n",
        "                                                    batch_size=32,\n",
        "                                                    class_mode='categorical',\n",
        "                                                    target_size=(60, 40),\n",
        "                                                   subset='training')\n",
        "\n",
        "validation_datagen = ImageDataGenerator(rescale = 1.0/255,\n",
        "                                        validation_split=0.4)\n",
        "\n",
        "\n",
        "validation_generator = validation_datagen.flow_from_directory(base_dir,\n",
        "                                                    batch_size=32,\n",
        "                                                    class_mode='categorical',\n",
        "                                                    target_size=(60, 40),\n",
        "                                                    subset='validation')"
      ],
      "execution_count": 17,
      "outputs": [
        {
          "output_type": "stream",
          "text": [
            "Found 1314 images belonging to 3 classes.\n",
            "Found 874 images belonging to 3 classes.\n"
          ],
          "name": "stdout"
        }
      ]
    },
    {
      "cell_type": "markdown",
      "metadata": {
        "id": "KLZCdrOLDwrq"
      },
      "source": [
        "# Pemodelan "
      ]
    },
    {
      "cell_type": "code",
      "metadata": {
        "colab": {
          "base_uri": "https://localhost:8080/"
        },
        "id": "cpi-TIwuiGbx",
        "outputId": "6a374b7a-9856-420d-8641-57ccabe6609b"
      },
      "source": [
        "\n",
        "model_class_img = tf.keras.models.Sequential([\n",
        "    tf.keras.layers.Conv2D(64, (5,5), activation=tf.nn.relu,input_shape=(60, 40, 3)),\n",
        "    tf.keras.layers.BatchNormalization(),\n",
        "\n",
        "    tf.keras.layers.Conv2D(64, (3,3), activation=tf.nn.relu,padding = 'Same'),\n",
        "    tf.keras.layers.MaxPooling2D(2,2),\n",
        "\n",
        "    tf.keras.layers.Conv2D(128, (3,3), activation=tf.nn.relu,padding = 'Same'),\n",
        "    tf.keras.layers.MaxPooling2D(2,2),\n",
        "\n",
        "    tf.keras.layers.Flatten(),\n",
        "\n",
        "    tf.keras.layers.Dense(256, activation=tf.nn.relu),\n",
        "    tf.keras.layers.Dense(3, activation = tf.nn.softmax)\n",
        "])\n",
        "\n",
        "model_class_img.summary()"
      ],
      "execution_count": 18,
      "outputs": [
        {
          "output_type": "stream",
          "text": [
            "Model: \"sequential\"\n",
            "_________________________________________________________________\n",
            "Layer (type)                 Output Shape              Param #   \n",
            "=================================================================\n",
            "conv2d (Conv2D)              (None, 56, 36, 64)        4864      \n",
            "_________________________________________________________________\n",
            "batch_normalization (BatchNo (None, 56, 36, 64)        256       \n",
            "_________________________________________________________________\n",
            "conv2d_1 (Conv2D)            (None, 56, 36, 64)        36928     \n",
            "_________________________________________________________________\n",
            "max_pooling2d (MaxPooling2D) (None, 28, 18, 64)        0         \n",
            "_________________________________________________________________\n",
            "conv2d_2 (Conv2D)            (None, 28, 18, 128)       73856     \n",
            "_________________________________________________________________\n",
            "max_pooling2d_1 (MaxPooling2 (None, 14, 9, 128)        0         \n",
            "_________________________________________________________________\n",
            "flatten (Flatten)            (None, 16128)             0         \n",
            "_________________________________________________________________\n",
            "dense (Dense)                (None, 256)               4129024   \n",
            "_________________________________________________________________\n",
            "dense_1 (Dense)              (None, 3)                 771       \n",
            "=================================================================\n",
            "Total params: 4,245,699\n",
            "Trainable params: 4,245,571\n",
            "Non-trainable params: 128\n",
            "_________________________________________________________________\n"
          ],
          "name": "stdout"
        }
      ]
    },
    {
      "cell_type": "code",
      "metadata": {
        "colab": {
          "base_uri": "https://localhost:8080/"
        },
        "id": "dYj0JOprtK-Z",
        "outputId": "fcd6a3bd-0d96-410f-99b0-46708763b86e"
      },
      "source": [
        "nama_model = \"mobilenet_v3_small_100_224\" # @param ['bit_s-r50x1', 'efficientnet_b0', 'efficientnet_b1', 'efficientnet_b2', 'efficientnet_b3', 'efficientnet_b4', 'efficientnet_b5', 'efficientnet_b6', 'efficientnet_b7', 'inception_v3', 'inception_resnet_v2', 'mobilenet_v2_100_224', 'mobilenet_v2_130_224', 'mobilenet_v2_140_224', 'mobilenet_v3_large_100_224', 'mobilenet_v3_large_075_224', 'mobilenet_v3_small_100_224', 'mobilenet_v3_small_075_224', 'nasnet_large', 'nasnet_mobile', 'pnasnet_large', 'resnet_v1_50', 'resnet_v1_101', 'resnet_v1_152', 'resnet_v2_50', 'resnet_v2_101', 'resnet_v2_152']\n",
        "\n",
        "model_handle_map = {\n",
        "  \"efficientnet_b0\": \"https://tfhub.dev/tensorflow/efficientnet/b0/feature-vector/1\",\n",
        "  \"efficientnet_b1\": \"https://tfhub.dev/tensorflow/efficientnet/b1/feature-vector/1\",\n",
        "  \"efficientnet_b2\": \"https://tfhub.dev/tensorflow/efficientnet/b2/feature-vector/1\",\n",
        "  \"efficientnet_b3\": \"https://tfhub.dev/tensorflow/efficientnet/b3/feature-vector/1\",\n",
        "  \"efficientnet_b4\": \"https://tfhub.dev/tensorflow/efficientnet/b4/feature-vector/1\",\n",
        "  \"efficientnet_b5\": \"https://tfhub.dev/tensorflow/efficientnet/b5/feature-vector/1\",\n",
        "  \"efficientnet_b6\": \"https://tfhub.dev/tensorflow/efficientnet/b6/feature-vector/1\",\n",
        "  \"efficientnet_b7\": \"https://tfhub.dev/tensorflow/efficientnet/b7/feature-vector/1\",\n",
        "  \"bit_s-r50x1\": \"https://tfhub.dev/google/bit/s-r50x1/1\",\n",
        "  \"inception_v3\": \"https://tfhub.dev/google/imagenet/inception_v3/feature-vector/4\",\n",
        "  \"inception_resnet_v2\": \"https://tfhub.dev/google/imagenet/inception_resnet_v2/feature-vector/4\",\n",
        "  \"resnet_v1_50\": \"https://tfhub.dev/google/imagenet/resnet_v1_50/feature-vector/4\",\n",
        "  \"resnet_v1_101\": \"https://tfhub.dev/google/imagenet/resnet_v1_101/feature-vector/4\",\n",
        "  \"resnet_v1_152\": \"https://tfhub.dev/google/imagenet/resnet_v1_152/feature-vector/4\",\n",
        "  \"resnet_v2_50\": \"https://tfhub.dev/google/imagenet/resnet_v2_50/feature-vector/4\",\n",
        "  \"resnet_v2_101\": \"https://tfhub.dev/google/imagenet/resnet_v2_101/feature-vector/4\",\n",
        "  \"resnet_v2_152\": \"https://tfhub.dev/google/imagenet/resnet_v2_152/feature-vector/4\",\n",
        "  \"nasnet_large\": \"https://tfhub.dev/google/imagenet/nasnet_large/feature_vector/4\",\n",
        "  \"nasnet_mobile\": \"https://tfhub.dev/google/imagenet/nasnet_mobile/feature_vector/4\",\n",
        "  \"pnasnet_large\": \"https://tfhub.dev/google/imagenet/pnasnet_large/feature_vector/4\",\n",
        "  \"mobilenet_v2_100_224\": \"https://tfhub.dev/google/imagenet/mobilenet_v2_100_224/feature_vector/4\",\n",
        "  \"mobilenet_v2_130_224\": \"https://tfhub.dev/google/imagenet/mobilenet_v2_130_224/feature_vector/4\",\n",
        "  \"mobilenet_v2_140_224\": \"https://tfhub.dev/google/imagenet/mobilenet_v2_140_224/feature_vector/4\",\n",
        "  \"mobilenet_v3_small_100_224\": \"https://tfhub.dev/google/imagenet/mobilenet_v3_small_100_224/feature_vector/5\",\n",
        "  \"mobilenet_v3_small_075_224\": \"https://tfhub.dev/google/imagenet/mobilenet_v3_small_075_224/feature_vector/5\",\n",
        "  \"mobilenet_v3_large_100_224\": \"https://tfhub.dev/google/imagenet/mobilenet_v3_large_100_224/feature_vector/5\",\n",
        "  \"mobilenet_v3_large_075_224\": \"https://tfhub.dev/google/imagenet/mobilenet_v3_large_075_224/feature_vector/5\",\n",
        "}\n",
        "\n",
        "model_image_size_map = {\n",
        "  \"efficientnet_b0\": 224,\n",
        "  \"efficientnet_b1\": 240,\n",
        "  \"efficientnet_b2\": 260,\n",
        "  \"efficientnet_b3\": 300,\n",
        "  \"efficientnet_b4\": 380,\n",
        "  \"efficientnet_b5\": 456,\n",
        "  \"efficientnet_b6\": 528,\n",
        "  \"efficientnet_b7\": 600,\n",
        "  \"inception_v3\": 299,\n",
        "  \"inception_resnet_v2\": 299,\n",
        "  \"nasnet_large\": 331,\n",
        "  \"pnasnet_large\": 331,\n",
        "}\n",
        "\n",
        "model_handle = model_handle_map.get(nama_model)\n",
        "pixels = model_image_size_map.get(nama_model, 224)\n",
        "\n",
        "print(f\"Selected model: {nama_model} : {model_handle}\")\n",
        "\n",
        "IMAGE_SIZE = (pixels, pixels)\n",
        "print(f\"Input size {IMAGE_SIZE}\")\n",
        "\n",
        "BATCH_SIZE = 32"
      ],
      "execution_count": 27,
      "outputs": [
        {
          "output_type": "stream",
          "text": [
            "Selected model: mobilenet_v3_small_100_224 : https://tfhub.dev/google/imagenet/mobilenet_v3_small_100_224/feature_vector/5\n",
            "Input size (224, 224)\n"
          ],
          "name": "stdout"
        }
      ]
    },
    {
      "cell_type": "code",
      "metadata": {
        "colab": {
          "base_uri": "https://localhost:8080/",
          "height": 282
        },
        "id": "HWN-eJ8ct-5s",
        "outputId": "ae7ea739-6e16-46de-deae-7ff9f0a6290b"
      },
      "source": [
        "import numpy as np\n",
        "\n",
        "def get_class_string_from_index(index):\n",
        "   for class_string, class_index in validation_generator.class_indices.items():\n",
        "      if class_index == index:\n",
        "         return class_string\n",
        "\n",
        "x, y = next(validation_generator)\n",
        "image = x[0, :, :, :]\n",
        "true_index = np.argmax(y[0])\n",
        "plt.imshow(image)\n",
        "plt.axis('off')\n",
        "plt.show()\n",
        "\n",
        "# Expand the validation image to (1, 224, 224, 3) before predicting the label\n",
        "prediction_scores = model_class_img.predict(np.expand_dims(image, axis=0))\n",
        "predicted_index = np.argmax(prediction_scores)\n",
        "print(\"True label: \" + get_class_string_from_index(true_index))\n",
        "print(\"Predicted label: \" + get_class_string_from_index(predicted_index))"
      ],
      "execution_count": 35,
      "outputs": [
        {
          "output_type": "display_data",
          "data": {
            "image/png": "[encoded data removed]",
            "text/plain": [
              "<Figure size 432x288 with 1 Axes>"
            ]
          },
          "metadata": {
            "tags": [],
            "needs_background": "light"
          }
        },
        {
          "output_type": "stream",
          "text": [
            "True label: rock\n",
            "Predicted label: rock\n"
          ],
          "name": "stdout"
        }
      ]
    },
    {
      "cell_type": "code",
      "metadata": {
        "id": "Kka3GjRK__7L"
      },
      "source": [
        ""
      ],
      "execution_count": null,
      "outputs": []
    },
    {
      "cell_type": "code",
      "metadata": {
        "colab": {
          "base_uri": "https://localhost:8080/"
        },
        "id": "GR-dXOQTxeWC",
        "outputId": "dda5fe24-7274-45c4-cb40-2fc947f9c542"
      },
      "source": [
        "saved_model_path = f\"/content/sample_data/Project/rockpaperscissors/saved_model_{nama_model}\"\n",
        "tf.saved_model.save(model_class_img, saved_model_path)"
      ],
      "execution_count": 36,
      "outputs": [
        {
          "output_type": "stream",
          "text": [
            "INFO:tensorflow:Assets written to: /content/sample_data/Project/rockpaperscissors/saved_model_mobilenet_v3_small_100_224/assets\n"
          ],
          "name": "stdout"
        }
      ]
    },
    {
      "cell_type": "code",
      "metadata": {
        "colab": {
          "base_uri": "https://localhost:8080/"
        },
        "id": "0pZhbPuMxvCV",
        "outputId": "ced9d151-38b2-4665-b21e-7c788b192742"
      },
      "source": [
        "optimize_lite_model = False \n",
        "num_calibration_examples = 60 \n",
        "representative_dataset = None\n",
        "if optimize_lite_model and num_calibration_examples:\n",
        "  # Use a bounded number of training examples without labels for calibration.\n",
        "  # TFLiteConverter expects a list of input tensors, each with batch size 1.\n",
        "  representative_dataset = lambda: itertools.islice(\n",
        "      ([image[None, ...]] for batch, _ in train_generator for image in batch),\n",
        "      num_calibration_examples)\n",
        "\n",
        "converter = tf.lite.TFLiteConverter.from_saved_model(saved_model_path)\n",
        "if optimize_lite_model:\n",
        "  converter.optimizations = [tf.lite.Optimize.DEFAULT]\n",
        "  if representative_dataset:  # This is optional, see above.\n",
        "    converter.representative_dataset = representative_dataset\n",
        "lite_model_content = converter.convert()\n",
        "\n",
        "with open(f\"/content/sample_data/Project/rockpaperscissors/saved_model_{model_name}.tflite\", \"wb\") as f:\n",
        "  f.write(lite_model_content)\n",
        "print(\"Wrote %sTFLite model of %d bytes.\" %\n",
        "      (\"optimized \" if optimize_lite_model else \"\", len(lite_model_content)))\n"
      ],
      "execution_count": 39,
      "outputs": [
        {
          "output_type": "stream",
          "text": [
            "Wrote TFLite model of 16985772 bytes.\n"
          ],
          "name": "stdout"
        }
      ]
    },
    {
      "cell_type": "code",
      "metadata": {
        "id": "aEtJLpPnyNp-"
      },
      "source": [
        "interpreter = tf.lite.Interpreter(model_content=lite_model_content)\n",
        "# This little helper wraps the TF Lite interpreter as a numpy-to-numpy function.\n",
        "def lite_model(images):\n",
        "  interpreter.allocate_tensors()\n",
        "  interpreter.set_tensor(interpreter.get_input_details()[0]['index'], images)\n",
        "  interpreter.invoke()\n",
        "  return interpreter.get_tensor(interpreter.get_output_details()[0]['index'])\n"
      ],
      "execution_count": 40,
      "outputs": []
    },
    {
      "cell_type": "markdown",
      "metadata": {
        "id": "wqKBu1QkElnv"
      },
      "source": [
        "# Pengujian "
      ]
    },
    {
      "cell_type": "code",
      "metadata": {
        "id": "BIjwx5hQkabT"
      },
      "source": [
        "#learning_rate_reduction = ReduceLROnPlateau(monitor='val_acc', patience=2, mode=auto, verbose=1, factor=0.5, min_lr=0.000003)\n",
        "\n",
        "# menggunakan callback yang akan menghentikan training apabila akurasi sudah mencapai 97%\n",
        "accuracythreshold = 99e-2\n",
        "class AccCallback(tf.keras.callbacks.Callback): \n",
        "    def on_epoch_end(self, epoch, logs={}): \n",
        "        if(logs.get('accuracy') >= accuracythreshold):   \n",
        "          print(\"\\nMencapai akurasi %2.2f%% , training dihentikan!\" %(accuracythreshold*100))   \n",
        "          self.model_class_img.stop_training = True\n"
      ],
      "execution_count": 30,
      "outputs": []
    },
    {
      "cell_type": "code",
      "metadata": {
        "colab": {
          "base_uri": "https://localhost:8080/"
        },
        "id": "U3sG75tAqFwN",
        "outputId": "a115393c-67bd-4247-a11b-6289aeba8780"
      },
      "source": [
        "#model.compile(loss = 'categorical_crossentropy', optimizer= tf.keras.optimizers.Adam(), metrics=['acc'])\n",
        "# mengcompile model Convolutional Neural Network\n",
        "model_class_img.compile(loss='categorical_crossentropy', optimizer= tf.keras.optimizers.Adam(),  metrics=['accuracy'])\n",
        "\n",
        "# training model Convolutional Neural Network\n",
        "history = model_class_img.fit(\n",
        "    train_generator,\n",
        "    steps_per_epoch = 25,\n",
        "    epochs = 20,\n",
        "    validation_data = validation_generator,\n",
        "    validation_steps = 5,\n",
        "    verbose = 2,\n",
        "    callbacks=[AccCallback()])\n"
      ],
      "execution_count": 31,
      "outputs": [
        {
          "output_type": "stream",
          "text": [
            "Epoch 1/20\n",
            "25/25 - 15s - loss: 0.0758 - accuracy: 0.9727 - val_loss: 0.0104 - val_accuracy: 0.9937\n",
            "Epoch 2/20\n",
            "25/25 - 15s - loss: 0.0484 - accuracy: 0.9800 - val_loss: 0.0652 - val_accuracy: 0.9937\n",
            "Epoch 3/20\n",
            "25/25 - 15s - loss: 0.0763 - accuracy: 0.9792 - val_loss: 0.0135 - val_accuracy: 0.9937\n",
            "Epoch 4/20\n",
            "25/25 - 15s - loss: 0.0534 - accuracy: 0.9850 - val_loss: 0.5840 - val_accuracy: 0.7688\n",
            "Epoch 5/20\n",
            "25/25 - 15s - loss: 0.0609 - accuracy: 0.9775 - val_loss: 0.0318 - val_accuracy: 0.9875\n",
            "Epoch 6/20\n",
            "25/25 - 15s - loss: 0.0884 - accuracy: 0.9779 - val_loss: 0.0111 - val_accuracy: 1.0000\n",
            "Epoch 7/20\n",
            "25/25 - 15s - loss: 0.0991 - accuracy: 0.9675 - val_loss: 0.1923 - val_accuracy: 0.9250\n",
            "Epoch 8/20\n",
            "25/25 - 15s - loss: 0.1103 - accuracy: 0.9636 - val_loss: 0.0476 - val_accuracy: 0.9750\n",
            "Epoch 9/20\n",
            "25/25 - 15s - loss: 0.0449 - accuracy: 0.9844 - val_loss: 0.1454 - val_accuracy: 0.9500\n",
            "Epoch 10/20\n",
            "25/25 - 15s - loss: 0.0612 - accuracy: 0.9787 - val_loss: 0.1695 - val_accuracy: 0.9312\n",
            "Epoch 11/20\n",
            "25/25 - 15s - loss: 0.0626 - accuracy: 0.9775 - val_loss: 0.0449 - val_accuracy: 0.9875\n",
            "Epoch 12/20\n",
            "25/25 - 15s - loss: 0.0854 - accuracy: 0.9753 - val_loss: 0.9812 - val_accuracy: 0.5750\n",
            "Epoch 13/20\n",
            "25/25 - 15s - loss: 0.0435 - accuracy: 0.9870 - val_loss: 0.0352 - val_accuracy: 0.9875\n",
            "Epoch 14/20\n",
            "25/25 - 15s - loss: 0.0354 - accuracy: 0.9844 - val_loss: 0.0115 - val_accuracy: 0.9937\n",
            "Epoch 15/20\n",
            "25/25 - 15s - loss: 0.0689 - accuracy: 0.9762 - val_loss: 0.1651 - val_accuracy: 0.9812\n",
            "Epoch 16/20\n",
            "25/25 - 15s - loss: 0.0423 - accuracy: 0.9850 - val_loss: 0.0593 - val_accuracy: 0.9875\n",
            "Epoch 17/20\n",
            "25/25 - 15s - loss: 0.0358 - accuracy: 0.9909 - val_loss: 0.0850 - val_accuracy: 0.9875\n",
            "\n",
            "Mencapai akurasi 99.00% , training dihentikan!\n"
          ],
          "name": "stdout"
        }
      ]
    },
    {
      "cell_type": "code",
      "metadata": {
        "colab": {
          "base_uri": "https://localhost:8080/",
          "height": 545
        },
        "id": "9UjXIfVPqUEH",
        "outputId": "bd6175cb-ab2c-4131-df03-e30849c5ca91"
      },
      "source": [
        "%matplotlib inline\n",
        "acc = history.history['accuracy']\n",
        "val_acc = history.history['val_accuracy']\n",
        "loss = history.history['loss']\n",
        "val_loss = history.history['val_loss']\n",
        "\n",
        "epochs = range(len(acc))\n",
        "\n",
        "plt.plot(epochs, acc, 'r', label='Training accuracy')\n",
        "plt.plot(epochs, val_acc, 'b', label='Validation accuracy')\n",
        "plt.title('Training and validation accuracy')\n",
        "plt.legend()\n",
        "plt.figure()\n",
        "\n",
        "plt.plot(epochs, loss, 'r', label='Training Loss')\n",
        "plt.plot(epochs, val_loss, 'b', label='Validation Loss')\n",
        "plt.title('Training and validation loss')\n",
        "plt.legend()\n",
        "\n",
        "plt.show()\n"
      ],
      "execution_count": 33,
      "outputs": [
        {
          "output_type": "display_data",
          "data": {
            "image/png": "[encoded data removed]",
            "text/plain": [
              "<Figure size 432x288 with 1 Axes>"
            ]
          },
          "metadata": {
            "tags": [],
            "needs_background": "light"
          }
        },
        {
          "output_type": "display_data",
          "data": {
            "image/png": "[encoded data removed]",
            "text/plain": [
              "<Figure size 432x288 with 1 Axes>"
            ]
          },
          "metadata": {
            "tags": [],
            "needs_background": "light"
          }
        }
      ]
    },
    {
      "cell_type": "code",
      "metadata": {
        "colab": {
          "base_uri": "https://localhost:8080/",
          "height": 545
        },
        "id": "JOYvaq99s_9s",
        "outputId": "74001f49-b189-4c2f-b853-451ca9efeb7c"
      },
      "source": [
        "%matplotlib inline\n",
        "acc = history.history['accuracy'][7:]\n",
        "val_acc = history.history['val_accuracy'][7:]\n",
        "loss = history.history['loss'][7:]\n",
        "val_loss = history.history['val_loss'][7:]\n",
        "\n",
        "epochs = range(7,7+len(acc))\n",
        "\n",
        "plt.plot(epochs, acc, 'r', label='Training accuracy')\n",
        "plt.plot(epochs, val_acc, 'b', label='Validation accuracy')\n",
        "plt.title('Training and validation accuracy')\n",
        "plt.legend()\n",
        "plt.figure()\n",
        "\n",
        "plt.plot(epochs, loss, 'r', label='Training Loss')\n",
        "plt.plot(epochs, val_loss, 'b', label='Validation Loss')\n",
        "plt.title('Training and validation loss')\n",
        "plt.legend()\n",
        "\n",
        "plt.show()"
      ],
      "execution_count": 34,
      "outputs": [
        {
          "output_type": "display_data",
          "data": {
            "image/png": "[encoded data removed]",
            "text/plain": [
              "<Figure size 432x288 with 1 Axes>"
            ]
          },
          "metadata": {
            "tags": [],
            "needs_background": "light"
          }
        },
        {
          "output_type": "display_data",
          "data": {
            "image/png": "[encoded data removed]",
            "text/plain": [
              "<Figure size 432x288 with 1 Axes>"
            ]
          },
          "metadata": {
            "tags": [],
            "needs_background": "light"
          }
        }
      ]
    },
    {
      "cell_type": "code",
      "metadata": {
        "colab": {
          "base_uri": "https://localhost:8080/"
        },
        "id": "NZdFyxH3ySxc",
        "outputId": "fe754265-f837-46dd-ea49-63b0a54a4884"
      },
      "source": [
        "num_eval_examples = 50 \n",
        "eval_dataset = ((image, label)  # TFLite expects batch size 1.\n",
        "                for batch in train_generator\n",
        "                for (image, label) in zip(*batch))\n",
        "count = 0\n",
        "count_lite_tf_agree = 0\n",
        "count_lite_correct = 0\n",
        "for image, label in eval_dataset:\n",
        "  probs_lite = lite_model(image[None, ...])[0]\n",
        "  probs_tf = model_class_img(image[None, ...]).numpy()[0]\n",
        "  y_lite = np.argmax(probs_lite)\n",
        "  y_tf = np.argmax(probs_tf)\n",
        "  y_true = np.argmax(label)\n",
        "  count +=1\n",
        "  if y_lite == y_tf: count_lite_tf_agree += 1\n",
        "  if y_lite == y_true: count_lite_correct += 1\n",
        "  if count >= num_eval_examples: break\n",
        "print(\"TF Lite model agrees with original model on %d of %d examples (%g%%).\" %\n",
        "      (count_lite_tf_agree, count, 100.0 * count_lite_tf_agree / count))\n",
        "print(\"TF Lite model is accurate on %d of %d examples (%g%%).\" %\n",
        "      (count_lite_correct, count, 100.0 * count_lite_correct / count))\n"
      ],
      "execution_count": 41,
      "outputs": [
        {
          "output_type": "stream",
          "text": [
            "TF Lite model agrees with original model on 50 of 50 examples (100%).\n",
            "TF Lite model is accurate on 49 of 50 examples (98%).\n"
          ],
          "name": "stdout"
        }
      ]
    },
    {
      "cell_type": "markdown",
      "metadata": {
        "id": "4-P1Uc4aFBe2"
      },
      "source": [
        "# Kesimpulan"
      ]
    },
    {
      "cell_type": "markdown",
      "metadata": {
        "id": "zcQ-ty0RFFNX"
      },
      "source": [
        ""
      ]
    }
  ]
}